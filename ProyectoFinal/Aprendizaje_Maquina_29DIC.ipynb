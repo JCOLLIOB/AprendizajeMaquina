{
  "cells": [
    {
      "cell_type": "code",
      "execution_count": 1,
      "metadata": {
        "colab": {
          "base_uri": "https://localhost:8080/"
        },
        "id": "HTwk_DPbKidv",
        "outputId": "33b68c56-cfa8-42f7-e757-766da8456a2b"
      },
      "outputs": [
        {
          "output_type": "stream",
          "name": "stdout",
          "text": [
            "Requirement already satisfied: gdown in /usr/local/lib/python3.7/dist-packages (3.6.4)\n",
            "Requirement already satisfied: requests in /usr/local/lib/python3.7/dist-packages (from gdown) (2.23.0)\n",
            "Requirement already satisfied: tqdm in /usr/local/lib/python3.7/dist-packages (from gdown) (4.62.3)\n",
            "Requirement already satisfied: six in /usr/local/lib/python3.7/dist-packages (from gdown) (1.15.0)\n",
            "Requirement already satisfied: idna<3,>=2.5 in /usr/local/lib/python3.7/dist-packages (from requests->gdown) (2.10)\n",
            "Requirement already satisfied: urllib3!=1.25.0,!=1.25.1,<1.26,>=1.21.1 in /usr/local/lib/python3.7/dist-packages (from requests->gdown) (1.24.3)\n",
            "Requirement already satisfied: chardet<4,>=3.0.2 in /usr/local/lib/python3.7/dist-packages (from requests->gdown) (3.0.4)\n",
            "Requirement already satisfied: certifi>=2017.4.17 in /usr/local/lib/python3.7/dist-packages (from requests->gdown) (2021.10.8)\n",
            "Downloading...\n",
            "From: https://drive.google.com/uc?id=10uonevf5ekzr-KCT9w2iQoF9Flnp1c6c\n",
            "To: /content/base_postgrado_v2.csv\n",
            "100% 2.24M/2.24M [00:00<00:00, 34.9MB/s]\n"
          ]
        }
      ],
      "source": [
        "!pip install gdown\n",
        "\n",
        "!gdown https://drive.google.com/uc?id=10uonevf5ekzr-KCT9w2iQoF9Flnp1c6c"
      ]
    },
    {
      "cell_type": "code",
      "execution_count": 2,
      "metadata": {
        "id": "8jps_unDOk56"
      },
      "outputs": [],
      "source": [
        "#Importación de librerias\n",
        "\n",
        "import pandas as pd\n",
        "import matplotlib.pyplot as plt\n",
        "import numpy as np\n",
        "\n",
        "from sklearn.model_selection import train_test_split\n",
        "from sklearn.metrics import plot_confusion_matrix\n",
        "from sklearn.metrics import accuracy_score\n",
        "from sklearn.metrics import confusion_matrix, classification_report\n",
        "\n",
        "from sklearn.tree import DecisionTreeClassifier\n",
        "from sklearn.ensemble import RandomForestClassifier\n",
        "from sklearn.svm import SVC\n",
        "from sklearn.model_selection import GridSearchCV\n",
        "\n",
        "data = pd.read_csv(\"/content/base_postgrado_v2.csv\")"
      ]
    },
    {
      "cell_type": "code",
      "execution_count": 3,
      "metadata": {
        "colab": {
          "base_uri": "https://localhost:8080/"
        },
        "id": "CcPJT_c8RhNB",
        "outputId": "0bd9c5d2-727c-48ed-8755-32a4a46aabc4"
      },
      "outputs": [
        {
          "output_type": "execute_result",
          "data": {
            "text/plain": [
              "(13985, 16)"
            ]
          },
          "metadata": {},
          "execution_count": 3
        }
      ],
      "source": [
        "data.shape"
      ]
    },
    {
      "cell_type": "code",
      "execution_count": 4,
      "metadata": {
        "colab": {
          "base_uri": "https://localhost:8080/",
          "height": 263
        },
        "id": "OWGRq0TQ5jox",
        "outputId": "36bce58a-c079-4b44-fb92-212b8b964452"
      },
      "outputs": [
        {
          "output_type": "execute_result",
          "data": {
            "text/html": [
              "\n",
              "  <div id=\"df-ae8d0c93-8c9c-4a9c-bdbe-c9e3155d476b\">\n",
              "    <div class=\"colab-df-container\">\n",
              "      <div>\n",
              "<style scoped>\n",
              "    .dataframe tbody tr th:only-of-type {\n",
              "        vertical-align: middle;\n",
              "    }\n",
              "\n",
              "    .dataframe tbody tr th {\n",
              "        vertical-align: top;\n",
              "    }\n",
              "\n",
              "    .dataframe thead th {\n",
              "        text-align: right;\n",
              "    }\n",
              "</style>\n",
              "<table border=\"1\" class=\"dataframe\">\n",
              "  <thead>\n",
              "    <tr style=\"text-align: right;\">\n",
              "      <th></th>\n",
              "      <th>id</th>\n",
              "      <th>genero</th>\n",
              "      <th>idgenero</th>\n",
              "      <th>año_ingreso</th>\n",
              "      <th>semestre_trimestre</th>\n",
              "      <th>idprograma</th>\n",
              "      <th>programa</th>\n",
              "      <th>facultad</th>\n",
              "      <th>campus</th>\n",
              "      <th>sede</th>\n",
              "      <th>jornada</th>\n",
              "      <th>duracionprograma</th>\n",
              "      <th>añooportuno</th>\n",
              "      <th>estadoalumno</th>\n",
              "      <th>idestadoalumno</th>\n",
              "      <th>tipoprograma</th>\n",
              "    </tr>\n",
              "  </thead>\n",
              "  <tbody>\n",
              "    <tr>\n",
              "      <th>0</th>\n",
              "      <td>1</td>\n",
              "      <td>Mujer</td>\n",
              "      <td>0</td>\n",
              "      <td>2014</td>\n",
              "      <td>1</td>\n",
              "      <td>IPPG15349</td>\n",
              "      <td>MBA con Especialización en Salud</td>\n",
              "      <td>IPPG</td>\n",
              "      <td>REP</td>\n",
              "      <td>Santiago</td>\n",
              "      <td>Diurna</td>\n",
              "      <td>4</td>\n",
              "      <td>2016</td>\n",
              "      <td>Desertor</td>\n",
              "      <td>0</td>\n",
              "      <td>Magíster</td>\n",
              "    </tr>\n",
              "    <tr>\n",
              "      <th>1</th>\n",
              "      <td>2</td>\n",
              "      <td>Mujer</td>\n",
              "      <td>0</td>\n",
              "      <td>2014</td>\n",
              "      <td>1</td>\n",
              "      <td>UNAB25434</td>\n",
              "      <td>Magister en Terapia Ocupacional con Menciones</td>\n",
              "      <td>Ciencias de la Rehabilitación</td>\n",
              "      <td>CAS</td>\n",
              "      <td>Santiago</td>\n",
              "      <td>Vespertina</td>\n",
              "      <td>3</td>\n",
              "      <td>2016</td>\n",
              "      <td>Desertor</td>\n",
              "      <td>0</td>\n",
              "      <td>Magíster</td>\n",
              "    </tr>\n",
              "  </tbody>\n",
              "</table>\n",
              "</div>\n",
              "      <button class=\"colab-df-convert\" onclick=\"convertToInteractive('df-ae8d0c93-8c9c-4a9c-bdbe-c9e3155d476b')\"\n",
              "              title=\"Convert this dataframe to an interactive table.\"\n",
              "              style=\"display:none;\">\n",
              "        \n",
              "  <svg xmlns=\"http://www.w3.org/2000/svg\" height=\"24px\"viewBox=\"0 0 24 24\"\n",
              "       width=\"24px\">\n",
              "    <path d=\"M0 0h24v24H0V0z\" fill=\"none\"/>\n",
              "    <path d=\"M18.56 5.44l.94 2.06.94-2.06 2.06-.94-2.06-.94-.94-2.06-.94 2.06-2.06.94zm-11 1L8.5 8.5l.94-2.06 2.06-.94-2.06-.94L8.5 2.5l-.94 2.06-2.06.94zm10 10l.94 2.06.94-2.06 2.06-.94-2.06-.94-.94-2.06-.94 2.06-2.06.94z\"/><path d=\"M17.41 7.96l-1.37-1.37c-.4-.4-.92-.59-1.43-.59-.52 0-1.04.2-1.43.59L10.3 9.45l-7.72 7.72c-.78.78-.78 2.05 0 2.83L4 21.41c.39.39.9.59 1.41.59.51 0 1.02-.2 1.41-.59l7.78-7.78 2.81-2.81c.8-.78.8-2.07 0-2.86zM5.41 20L4 18.59l7.72-7.72 1.47 1.35L5.41 20z\"/>\n",
              "  </svg>\n",
              "      </button>\n",
              "      \n",
              "  <style>\n",
              "    .colab-df-container {\n",
              "      display:flex;\n",
              "      flex-wrap:wrap;\n",
              "      gap: 12px;\n",
              "    }\n",
              "\n",
              "    .colab-df-convert {\n",
              "      background-color: #E8F0FE;\n",
              "      border: none;\n",
              "      border-radius: 50%;\n",
              "      cursor: pointer;\n",
              "      display: none;\n",
              "      fill: #1967D2;\n",
              "      height: 32px;\n",
              "      padding: 0 0 0 0;\n",
              "      width: 32px;\n",
              "    }\n",
              "\n",
              "    .colab-df-convert:hover {\n",
              "      background-color: #E2EBFA;\n",
              "      box-shadow: 0px 1px 2px rgba(60, 64, 67, 0.3), 0px 1px 3px 1px rgba(60, 64, 67, 0.15);\n",
              "      fill: #174EA6;\n",
              "    }\n",
              "\n",
              "    [theme=dark] .colab-df-convert {\n",
              "      background-color: #3B4455;\n",
              "      fill: #D2E3FC;\n",
              "    }\n",
              "\n",
              "    [theme=dark] .colab-df-convert:hover {\n",
              "      background-color: #434B5C;\n",
              "      box-shadow: 0px 1px 3px 1px rgba(0, 0, 0, 0.15);\n",
              "      filter: drop-shadow(0px 1px 2px rgba(0, 0, 0, 0.3));\n",
              "      fill: #FFFFFF;\n",
              "    }\n",
              "  </style>\n",
              "\n",
              "      <script>\n",
              "        const buttonEl =\n",
              "          document.querySelector('#df-ae8d0c93-8c9c-4a9c-bdbe-c9e3155d476b button.colab-df-convert');\n",
              "        buttonEl.style.display =\n",
              "          google.colab.kernel.accessAllowed ? 'block' : 'none';\n",
              "\n",
              "        async function convertToInteractive(key) {\n",
              "          const element = document.querySelector('#df-ae8d0c93-8c9c-4a9c-bdbe-c9e3155d476b');\n",
              "          const dataTable =\n",
              "            await google.colab.kernel.invokeFunction('convertToInteractive',\n",
              "                                                     [key], {});\n",
              "          if (!dataTable) return;\n",
              "\n",
              "          const docLinkHtml = 'Like what you see? Visit the ' +\n",
              "            '<a target=\"_blank\" href=https://colab.research.google.com/notebooks/data_table.ipynb>data table notebook</a>'\n",
              "            + ' to learn more about interactive tables.';\n",
              "          element.innerHTML = '';\n",
              "          dataTable['output_type'] = 'display_data';\n",
              "          await google.colab.output.renderOutput(dataTable, element);\n",
              "          const docLink = document.createElement('div');\n",
              "          docLink.innerHTML = docLinkHtml;\n",
              "          element.appendChild(docLink);\n",
              "        }\n",
              "      </script>\n",
              "    </div>\n",
              "  </div>\n",
              "  "
            ],
            "text/plain": [
              "   id genero  idgenero  ...  estadoalumno  idestadoalumno tipoprograma\n",
              "0   1  Mujer         0  ...      Desertor               0     Magíster\n",
              "1   2  Mujer         0  ...      Desertor               0     Magíster\n",
              "\n",
              "[2 rows x 16 columns]"
            ]
          },
          "metadata": {},
          "execution_count": 4
        }
      ],
      "source": [
        "data.head(2)"
      ]
    },
    {
      "cell_type": "markdown",
      "metadata": {
        "id": "t1aTco5fUq2T"
      },
      "source": [
        "# 4. Descripción de los desafíos"
      ]
    },
    {
      "cell_type": "code",
      "execution_count": 5,
      "metadata": {
        "colab": {
          "base_uri": "https://localhost:8080/"
        },
        "id": "vDwi2c0DS2vD",
        "outputId": "9c87d32a-f979-4353-ae29-4df7d0de57d5"
      },
      "outputs": [
        {
          "output_type": "execute_result",
          "data": {
            "text/plain": [
              "4     11752\n",
              "3      1167\n",
              "26      545\n",
              "28      403\n",
              "2       118\n",
              "Name: duracionprograma, dtype: int64"
            ]
          },
          "metadata": {},
          "execution_count": 5
        }
      ],
      "source": [
        "#@title Contar duracción del programa\n",
        "data['duracionprograma'].value_counts()"
      ]
    },
    {
      "cell_type": "code",
      "execution_count": 6,
      "metadata": {
        "colab": {
          "base_uri": "https://localhost:8080/"
        },
        "id": "gFkjWzlpKcpH",
        "outputId": "3e026e24-db21-4648-daea-912ad7303168"
      },
      "outputs": [
        {
          "output_type": "execute_result",
          "data": {
            "text/plain": [
              "(13985, 16)"
            ]
          },
          "metadata": {},
          "execution_count": 6
        }
      ],
      "source": [
        "data.shape"
      ]
    },
    {
      "cell_type": "code",
      "execution_count": 7,
      "metadata": {
        "id": "59oCw1qWO5yf"
      },
      "outputs": [],
      "source": [
        " # Datos outliers\n",
        "cond1 = data['duracionprograma'] == 26\n",
        "cond2 = data['duracionprograma'] == 28\n",
        "data = data[~cond1 & ~cond2]"
      ]
    },
    {
      "cell_type": "code",
      "execution_count": 8,
      "metadata": {
        "colab": {
          "base_uri": "https://localhost:8080/"
        },
        "id": "0Mx_ZuvaUZAv",
        "outputId": "343d9643-fb12-4d01-a2de-d5228c5388dd"
      },
      "outputs": [
        {
          "output_type": "execute_result",
          "data": {
            "text/plain": [
              "(13037, 16)"
            ]
          },
          "metadata": {},
          "execution_count": 8
        }
      ],
      "source": [
        "data.shape"
      ]
    },
    {
      "cell_type": "code",
      "execution_count": 9,
      "metadata": {
        "colab": {
          "base_uri": "https://localhost:8080/"
        },
        "id": "RCQAj4G6yU7z",
        "outputId": "f3507500-5c2b-418c-aa15-61a2230d1837"
      },
      "outputs": [
        {
          "output_type": "execute_result",
          "data": {
            "text/plain": [
              "Desertor    8641\n",
              "Activo      4396\n",
              "Name: estadoalumno, dtype: int64"
            ]
          },
          "metadata": {},
          "execution_count": 9
        }
      ],
      "source": [
        "#@title Cuenta Activos y Desertores\n",
        "data['estadoalumno'].value_counts()"
      ]
    },
    {
      "cell_type": "code",
      "execution_count": 10,
      "metadata": {
        "id": "F91aR2uIL2Vd"
      },
      "outputs": [],
      "source": [
        "#@title Conversión de columnas categóricas en numéricas\n",
        "\n",
        "columns = ['genero',          \n",
        "           'semestre_trimestre',\n",
        "           'programa',\n",
        "           'facultad',\n",
        "           'campus',\n",
        "           'sede',\n",
        "           'jornada',\n",
        "           'duracionprograma',       \n",
        "           'estadoalumno',         \n",
        "           'año_ingreso']\n",
        "\n",
        "for col in columns:\n",
        "    if col == 'estadoalumno':\n",
        "        data['estadoalumno_num'] = data[col].astype(\"category\").cat.codes\n",
        "        continue\n",
        "    data[col] = data[col].astype(\"category\").cat.codes\n",
        "columns.append('estadoalumno_num')\n",
        "data = data[columns]"
      ]
    },
    {
      "cell_type": "code",
      "execution_count": 11,
      "metadata": {
        "colab": {
          "base_uri": "https://localhost:8080/",
          "height": 144
        },
        "id": "8MlJuzM3MRaG",
        "outputId": "470b405a-7fd9-4c9c-9da7-13102a94af99"
      },
      "outputs": [
        {
          "output_type": "execute_result",
          "data": {
            "text/html": [
              "\n",
              "  <div id=\"df-de4c519d-0fc9-4eb7-a985-df9b8c9dbe18\">\n",
              "    <div class=\"colab-df-container\">\n",
              "      <div>\n",
              "<style scoped>\n",
              "    .dataframe tbody tr th:only-of-type {\n",
              "        vertical-align: middle;\n",
              "    }\n",
              "\n",
              "    .dataframe tbody tr th {\n",
              "        vertical-align: top;\n",
              "    }\n",
              "\n",
              "    .dataframe thead th {\n",
              "        text-align: right;\n",
              "    }\n",
              "</style>\n",
              "<table border=\"1\" class=\"dataframe\">\n",
              "  <thead>\n",
              "    <tr style=\"text-align: right;\">\n",
              "      <th></th>\n",
              "      <th>genero</th>\n",
              "      <th>semestre_trimestre</th>\n",
              "      <th>programa</th>\n",
              "      <th>facultad</th>\n",
              "      <th>campus</th>\n",
              "      <th>sede</th>\n",
              "      <th>jornada</th>\n",
              "      <th>duracionprograma</th>\n",
              "      <th>estadoalumno</th>\n",
              "      <th>año_ingreso</th>\n",
              "      <th>estadoalumno_num</th>\n",
              "    </tr>\n",
              "  </thead>\n",
              "  <tbody>\n",
              "    <tr>\n",
              "      <th>0</th>\n",
              "      <td>1</td>\n",
              "      <td>0</td>\n",
              "      <td>0</td>\n",
              "      <td>6</td>\n",
              "      <td>7</td>\n",
              "      <td>1</td>\n",
              "      <td>0</td>\n",
              "      <td>2</td>\n",
              "      <td>Desertor</td>\n",
              "      <td>0</td>\n",
              "      <td>1</td>\n",
              "    </tr>\n",
              "    <tr>\n",
              "      <th>1</th>\n",
              "      <td>1</td>\n",
              "      <td>0</td>\n",
              "      <td>17</td>\n",
              "      <td>1</td>\n",
              "      <td>2</td>\n",
              "      <td>1</td>\n",
              "      <td>2</td>\n",
              "      <td>1</td>\n",
              "      <td>Desertor</td>\n",
              "      <td>0</td>\n",
              "      <td>1</td>\n",
              "    </tr>\n",
              "    <tr>\n",
              "      <th>2</th>\n",
              "      <td>0</td>\n",
              "      <td>0</td>\n",
              "      <td>10</td>\n",
              "      <td>4</td>\n",
              "      <td>8</td>\n",
              "      <td>2</td>\n",
              "      <td>2</td>\n",
              "      <td>2</td>\n",
              "      <td>Activo</td>\n",
              "      <td>4</td>\n",
              "      <td>0</td>\n",
              "    </tr>\n",
              "  </tbody>\n",
              "</table>\n",
              "</div>\n",
              "      <button class=\"colab-df-convert\" onclick=\"convertToInteractive('df-de4c519d-0fc9-4eb7-a985-df9b8c9dbe18')\"\n",
              "              title=\"Convert this dataframe to an interactive table.\"\n",
              "              style=\"display:none;\">\n",
              "        \n",
              "  <svg xmlns=\"http://www.w3.org/2000/svg\" height=\"24px\"viewBox=\"0 0 24 24\"\n",
              "       width=\"24px\">\n",
              "    <path d=\"M0 0h24v24H0V0z\" fill=\"none\"/>\n",
              "    <path d=\"M18.56 5.44l.94 2.06.94-2.06 2.06-.94-2.06-.94-.94-2.06-.94 2.06-2.06.94zm-11 1L8.5 8.5l.94-2.06 2.06-.94-2.06-.94L8.5 2.5l-.94 2.06-2.06.94zm10 10l.94 2.06.94-2.06 2.06-.94-2.06-.94-.94-2.06-.94 2.06-2.06.94z\"/><path d=\"M17.41 7.96l-1.37-1.37c-.4-.4-.92-.59-1.43-.59-.52 0-1.04.2-1.43.59L10.3 9.45l-7.72 7.72c-.78.78-.78 2.05 0 2.83L4 21.41c.39.39.9.59 1.41.59.51 0 1.02-.2 1.41-.59l7.78-7.78 2.81-2.81c.8-.78.8-2.07 0-2.86zM5.41 20L4 18.59l7.72-7.72 1.47 1.35L5.41 20z\"/>\n",
              "  </svg>\n",
              "      </button>\n",
              "      \n",
              "  <style>\n",
              "    .colab-df-container {\n",
              "      display:flex;\n",
              "      flex-wrap:wrap;\n",
              "      gap: 12px;\n",
              "    }\n",
              "\n",
              "    .colab-df-convert {\n",
              "      background-color: #E8F0FE;\n",
              "      border: none;\n",
              "      border-radius: 50%;\n",
              "      cursor: pointer;\n",
              "      display: none;\n",
              "      fill: #1967D2;\n",
              "      height: 32px;\n",
              "      padding: 0 0 0 0;\n",
              "      width: 32px;\n",
              "    }\n",
              "\n",
              "    .colab-df-convert:hover {\n",
              "      background-color: #E2EBFA;\n",
              "      box-shadow: 0px 1px 2px rgba(60, 64, 67, 0.3), 0px 1px 3px 1px rgba(60, 64, 67, 0.15);\n",
              "      fill: #174EA6;\n",
              "    }\n",
              "\n",
              "    [theme=dark] .colab-df-convert {\n",
              "      background-color: #3B4455;\n",
              "      fill: #D2E3FC;\n",
              "    }\n",
              "\n",
              "    [theme=dark] .colab-df-convert:hover {\n",
              "      background-color: #434B5C;\n",
              "      box-shadow: 0px 1px 3px 1px rgba(0, 0, 0, 0.15);\n",
              "      filter: drop-shadow(0px 1px 2px rgba(0, 0, 0, 0.3));\n",
              "      fill: #FFFFFF;\n",
              "    }\n",
              "  </style>\n",
              "\n",
              "      <script>\n",
              "        const buttonEl =\n",
              "          document.querySelector('#df-de4c519d-0fc9-4eb7-a985-df9b8c9dbe18 button.colab-df-convert');\n",
              "        buttonEl.style.display =\n",
              "          google.colab.kernel.accessAllowed ? 'block' : 'none';\n",
              "\n",
              "        async function convertToInteractive(key) {\n",
              "          const element = document.querySelector('#df-de4c519d-0fc9-4eb7-a985-df9b8c9dbe18');\n",
              "          const dataTable =\n",
              "            await google.colab.kernel.invokeFunction('convertToInteractive',\n",
              "                                                     [key], {});\n",
              "          if (!dataTable) return;\n",
              "\n",
              "          const docLinkHtml = 'Like what you see? Visit the ' +\n",
              "            '<a target=\"_blank\" href=https://colab.research.google.com/notebooks/data_table.ipynb>data table notebook</a>'\n",
              "            + ' to learn more about interactive tables.';\n",
              "          element.innerHTML = '';\n",
              "          dataTable['output_type'] = 'display_data';\n",
              "          await google.colab.output.renderOutput(dataTable, element);\n",
              "          const docLink = document.createElement('div');\n",
              "          docLink.innerHTML = docLinkHtml;\n",
              "          element.appendChild(docLink);\n",
              "        }\n",
              "      </script>\n",
              "    </div>\n",
              "  </div>\n",
              "  "
            ],
            "text/plain": [
              "   genero  semestre_trimestre  ...  año_ingreso  estadoalumno_num\n",
              "0       1                   0  ...            0                 1\n",
              "1       1                   0  ...            0                 1\n",
              "2       0                   0  ...            4                 0\n",
              "\n",
              "[3 rows x 11 columns]"
            ]
          },
          "metadata": {},
          "execution_count": 11
        }
      ],
      "source": [
        "data.head(3)"
      ]
    },
    {
      "cell_type": "code",
      "execution_count": 12,
      "metadata": {
        "colab": {
          "base_uri": "https://localhost:8080/"
        },
        "id": "sLd7fqLqLBT3",
        "outputId": "4ef4b52a-b931-4255-b802-44c1ec36b010"
      },
      "outputs": [
        {
          "output_type": "stream",
          "name": "stdout",
          "text": [
            "No Sampled, Train:  (10429, 11) | Test:  (2608, 11)\n"
          ]
        }
      ],
      "source": [
        "#@title 80% Entrenamiento - 20% Test\n",
        "data_train, data_test = train_test_split(data, test_size=0.2) # data entrenamient y testeo\n",
        "print(\"No Sampled, Train: \", data_train.shape, \"| Test: \", data_test.shape)"
      ]
    },
    {
      "cell_type": "code",
      "execution_count": 13,
      "metadata": {
        "colab": {
          "base_uri": "https://localhost:8080/"
        },
        "id": "L06CnnRYMaum",
        "outputId": "3b384e4e-d372-4e23-8192-4980207539ed"
      },
      "outputs": [
        {
          "output_type": "execute_result",
          "data": {
            "text/plain": [
              "Desertor    6936\n",
              "Activo      3493\n",
              "Name: estadoalumno, dtype: int64"
            ]
          },
          "metadata": {},
          "execution_count": 13
        }
      ],
      "source": [
        "#@title Cuenta Activos y Desertores en el Entrenamiento (80%)\n",
        "data_train['estadoalumno'].value_counts()"
      ]
    },
    {
      "cell_type": "code",
      "execution_count": 14,
      "metadata": {
        "colab": {
          "base_uri": "https://localhost:8080/"
        },
        "id": "TADdbMQaKcpU",
        "outputId": "09068197-cb34-4332-d6d1-c38fd2430640"
      },
      "outputs": [
        {
          "output_type": "stream",
          "name": "stdout",
          "text": [
            "Sampled, TRAIN:  (6986, 11) | test:  (2608, 11)\n"
          ]
        }
      ],
      "source": [
        "#@title Desequilibrio del dataset\n",
        "activos = data_train[data_train['estadoalumno'] == 'Activo']\n",
        "desertores = data_train[data_train['estadoalumno'] == 'Desertor'].sample(n=len(activos))\n",
        "data_train = pd.concat([desertores, activos])\n",
        "\n",
        "print(\"Sampled, TRAIN: \", data_train.shape, \"| test: \", data_test.shape)"
      ]
    },
    {
      "cell_type": "code",
      "execution_count": 15,
      "metadata": {
        "colab": {
          "base_uri": "https://localhost:8080/"
        },
        "id": "DTM9uJ-QtK3z",
        "outputId": "05ffb736-61fe-4a90-ad17-71345f9678f1"
      },
      "outputs": [
        {
          "output_type": "execute_result",
          "data": {
            "text/plain": [
              "Desertor    3493\n",
              "Activo      3493\n",
              "Name: estadoalumno, dtype: int64"
            ]
          },
          "metadata": {},
          "execution_count": 15
        }
      ],
      "source": [
        "#@title Nuevo total de Activos y Desertores en el Entrenamiento (80%)\n",
        "data_train['estadoalumno'].value_counts()"
      ]
    },
    {
      "cell_type": "markdown",
      "metadata": {
        "id": "iS-PcFKNX8eC"
      },
      "source": [
        "# 3. Presentación del Experimento"
      ]
    },
    {
      "cell_type": "code",
      "execution_count": 16,
      "metadata": {
        "id": "3w7xH_jiM-vs"
      },
      "outputs": [],
      "source": [
        "x_train = data_train.drop(labels=['estadoalumno_num', 'estadoalumno'], axis=1)\n",
        "y_train = data_train['estadoalumno_num']\n",
        "\n",
        "x_test = data_test.drop(labels=['estadoalumno_num', 'estadoalumno'], axis=1)\n",
        "y_test = data_test['estadoalumno_num']"
      ]
    },
    {
      "cell_type": "markdown",
      "metadata": {
        "id": "pQZD8IhoYk59"
      },
      "source": [
        "# Entrenamientos de los modelos\n",
        "\n",
        "* Decision tree\n",
        "* Random Forest\n",
        "* SVM"
      ]
    },
    {
      "cell_type": "code",
      "execution_count": 17,
      "metadata": {
        "id": "RhRiUzqsY3DU"
      },
      "outputs": [],
      "source": [
        "# definicion de la funcion para evaluar los modelos\n",
        "def mt_conf(y_true, y_pred, x_test, model):\n",
        "    plt.figure(figsize=(12, 7))\n",
        "    plot_confusion_matrix(model, x_test, y_test)\n",
        "    #plt.title(string, fontsize='15')\n",
        "    plt.show()\n",
        "    \n",
        "    return round(100*accuracy_score(y_true, y_pred), 3)"
      ]
    },
    {
      "cell_type": "code",
      "execution_count": 18,
      "metadata": {
        "id": "BkgVv8BtKcpr"
      },
      "outputs": [],
      "source": [
        "def evaluar_predicciones(y_true, y_pred):\n",
        "    string = \"La precision del modelo es: {}%\".format(100*accuracy_score(y_true, y_pred))\n",
        "    mtf = confusion_matrix(y_true, y_pred)\n",
        "    print(string, end='\\n \\n')\n",
        "    print(classification_report(y_true, y_pred))\n",
        "    return mtf"
      ]
    },
    {
      "cell_type": "code",
      "execution_count": 19,
      "metadata": {
        "colab": {
          "base_uri": "https://localhost:8080/"
        },
        "id": "0MOPGewJKcpt",
        "outputId": "9f0d9a07-31a1-481f-e787-ffc76be60244"
      },
      "outputs": [
        {
          "output_type": "execute_result",
          "data": {
            "text/plain": [
              "{'criterion': 'gini', 'max_depth': 4, 'max_features': None, 'splitter': 'best'}"
            ]
          },
          "metadata": {},
          "execution_count": 19
        }
      ],
      "source": [
        "#@title Selección Hiperparametros Decision tree\n",
        "\n",
        "parameters = {\n",
        "    'criterion': [\"gini\", \"entropy\"],\n",
        "    'splitter':['best', 'random'],\n",
        "    'max_depth' : range(1, 5),\n",
        "    'max_features': ['auto', 'sqrt', 'log2', None]\n",
        "              }\n",
        "clf_desicion_tree = DecisionTreeClassifier()\n",
        "searcher = GridSearchCV(clf_desicion_tree, parameters)\n",
        "searcher.fit(x_train, y_train)\n",
        "searcher.best_params_"
      ]
    },
    {
      "cell_type": "code",
      "execution_count": 20,
      "metadata": {
        "colab": {
          "base_uri": "https://localhost:8080/",
          "height": 555
        },
        "id": "a-mA3BaFZDd3",
        "outputId": "ce777a86-f085-4597-8d08-ba6b40a241c0"
      },
      "outputs": [
        {
          "output_type": "stream",
          "name": "stdout",
          "text": [
            "La precision del modelo es: 99.96165644171779%\n",
            " \n",
            "              precision    recall  f1-score   support\n",
            "\n",
            "           0       1.00      1.00      1.00       903\n",
            "           1       1.00      1.00      1.00      1705\n",
            "\n",
            "    accuracy                           1.00      2608\n",
            "   macro avg       1.00      1.00      1.00      2608\n",
            "weighted avg       1.00      1.00      1.00      2608\n",
            "\n"
          ]
        },
        {
          "output_type": "stream",
          "name": "stderr",
          "text": [
            "/usr/local/lib/python3.7/dist-packages/sklearn/utils/deprecation.py:87: FutureWarning: Function plot_confusion_matrix is deprecated; Function `plot_confusion_matrix` is deprecated in 1.0 and will be removed in 1.2. Use one of the class methods: ConfusionMatrixDisplay.from_predictions or ConfusionMatrixDisplay.from_estimator.\n",
            "  warnings.warn(msg, category=FutureWarning)\n"
          ]
        },
        {
          "output_type": "display_data",
          "data": {
            "text/plain": [
              "<Figure size 864x504 with 0 Axes>"
            ]
          },
          "metadata": {}
        },
        {
          "output_type": "display_data",
          "data": {
            "image/png": "[encoded data removed]",
            "text/plain": [
              "<Figure size 432x288 with 2 Axes>"
            ]
          },
          "metadata": {
            "needs_background": "light"
          }
        }
      ],
      "source": [
        "#@title Decision tree\n",
        "clf_desicion_tree = DecisionTreeClassifier(**searcher.best_params_)\n",
        "clf_desicion_tree.fit(x_train, y_train)\n",
        "y_pred = clf_desicion_tree.predict(x_test)\n",
        "\n",
        "evaluar_predicciones(y_test, y_pred)\n",
        "\n",
        "resultados_desicion_tree = mt_conf(y_test, y_pred, x_test, clf_desicion_tree)"
      ]
    },
    {
      "cell_type": "code",
      "execution_count": 21,
      "metadata": {
        "colab": {
          "base_uri": "https://localhost:8080/"
        },
        "id": "MXiNDqd7Kcpx",
        "outputId": "ce783f5b-5704-4cae-be08-573a7459f5fa"
      },
      "outputs": [
        {
          "output_type": "execute_result",
          "data": {
            "text/plain": [
              "{'criterion': 'gini', 'max_depth': 4, 'max_features': None}"
            ]
          },
          "metadata": {},
          "execution_count": 21
        }
      ],
      "source": [
        "#@title Selección Hiperparametros Radom Forest\n",
        "parameters = {\n",
        "    'criterion': [\"gini\", \"entropy\"],\n",
        "    'max_depth' : range(1, 5),\n",
        "    'max_features': ['auto', 'sqrt', 'log2', None]\n",
        "              }\n",
        "\n",
        "clf_desicion_rf = RandomForestClassifier()\n",
        "searcher = GridSearchCV(clf_desicion_rf, parameters)\n",
        "searcher.fit(x_train, y_train)\n",
        "\n",
        "searcher.best_params_"
      ]
    },
    {
      "cell_type": "code",
      "execution_count": 22,
      "metadata": {
        "colab": {
          "base_uri": "https://localhost:8080/",
          "height": 555
        },
        "id": "C10La5Ddaufj",
        "outputId": "5f9b0026-8b10-46cc-f395-1aadcaceb9e0"
      },
      "outputs": [
        {
          "output_type": "stream",
          "name": "stdout",
          "text": [
            "La precision del modelo es: 99.96165644171779%\n",
            " \n",
            "              precision    recall  f1-score   support\n",
            "\n",
            "           0       1.00      1.00      1.00       903\n",
            "           1       1.00      1.00      1.00      1705\n",
            "\n",
            "    accuracy                           1.00      2608\n",
            "   macro avg       1.00      1.00      1.00      2608\n",
            "weighted avg       1.00      1.00      1.00      2608\n",
            "\n"
          ]
        },
        {
          "output_type": "stream",
          "name": "stderr",
          "text": [
            "/usr/local/lib/python3.7/dist-packages/sklearn/utils/deprecation.py:87: FutureWarning: Function plot_confusion_matrix is deprecated; Function `plot_confusion_matrix` is deprecated in 1.0 and will be removed in 1.2. Use one of the class methods: ConfusionMatrixDisplay.from_predictions or ConfusionMatrixDisplay.from_estimator.\n",
            "  warnings.warn(msg, category=FutureWarning)\n"
          ]
        },
        {
          "output_type": "display_data",
          "data": {
            "text/plain": [
              "<Figure size 864x504 with 0 Axes>"
            ]
          },
          "metadata": {}
        },
        {
          "output_type": "display_data",
          "data": {
            "image/png": "[encoded data removed]",
            "text/plain": [
              "<Figure size 432x288 with 2 Axes>"
            ]
          },
          "metadata": {
            "needs_background": "light"
          }
        }
      ],
      "source": [
        "#@title Random Forest\n",
        "clf_random_forest = RandomForestClassifier(**searcher.best_params_)\n",
        "clf_random_forest.fit(x_train, y_train)\n",
        "y_pred = clf_random_forest.predict(x_test)\n",
        "\n",
        "evaluar_predicciones(y_test, y_pred)\n",
        "\n",
        "resultados_random_forest = mt_conf(y_test, y_pred, x_test, clf_random_forest)"
      ]
    },
    {
      "cell_type": "code",
      "execution_count": 23,
      "metadata": {
        "colab": {
          "base_uri": "https://localhost:8080/"
        },
        "id": "pKShCh07Kcp1",
        "outputId": "427844c4-b08a-413c-af96-c9f05a09f034"
      },
      "outputs": [
        {
          "output_type": "execute_result",
          "data": {
            "text/plain": [
              "{'C': 10,\n",
              " 'decision_function_shape': 'ovo',\n",
              " 'gamma': 'auto',\n",
              " 'kernel': 'rbf',\n",
              " 'shrinking': True}"
            ]
          },
          "metadata": {},
          "execution_count": 23
        }
      ],
      "source": [
        "#@title Selección Hiperparametros SVM\n",
        "parameters = {\n",
        "    'kernel':('linear', 'rbf'),\n",
        "    'C':[1, 10],\n",
        "    'gamma': ['scale', 'auto'],\n",
        "    'shrinking': [True, False],\n",
        "    'decision_function_shape': ['ovo', 'ovr'],\n",
        "             }\n",
        "\n",
        "clf_svm = SVC()\n",
        "searcher = GridSearchCV(clf_svm, parameters)\n",
        "searcher.fit(x_train, y_train)\n",
        "searcher.best_params_"
      ]
    },
    {
      "cell_type": "code",
      "execution_count": 24,
      "metadata": {
        "colab": {
          "base_uri": "https://localhost:8080/",
          "height": 555
        },
        "id": "yx8AUeBFoF7o",
        "outputId": "5fc40945-3db2-4c04-c1c2-bd09ebc71b81"
      },
      "outputs": [
        {
          "output_type": "stream",
          "name": "stdout",
          "text": [
            "La precision del modelo es: 100.0%\n",
            " \n",
            "              precision    recall  f1-score   support\n",
            "\n",
            "           0       1.00      1.00      1.00       903\n",
            "           1       1.00      1.00      1.00      1705\n",
            "\n",
            "    accuracy                           1.00      2608\n",
            "   macro avg       1.00      1.00      1.00      2608\n",
            "weighted avg       1.00      1.00      1.00      2608\n",
            "\n"
          ]
        },
        {
          "output_type": "stream",
          "name": "stderr",
          "text": [
            "/usr/local/lib/python3.7/dist-packages/sklearn/utils/deprecation.py:87: FutureWarning: Function plot_confusion_matrix is deprecated; Function `plot_confusion_matrix` is deprecated in 1.0 and will be removed in 1.2. Use one of the class methods: ConfusionMatrixDisplay.from_predictions or ConfusionMatrixDisplay.from_estimator.\n",
            "  warnings.warn(msg, category=FutureWarning)\n"
          ]
        },
        {
          "output_type": "display_data",
          "data": {
            "text/plain": [
              "<Figure size 864x504 with 0 Axes>"
            ]
          },
          "metadata": {}
        },
        {
          "output_type": "display_data",
          "data": {
            "image/png": "[encoded data removed]",
            "text/plain": [
              "<Figure size 432x288 with 2 Axes>"
            ]
          },
          "metadata": {
            "needs_background": "light"
          }
        }
      ],
      "source": [
        "#@title SVM\n",
        "clf_svm = SVC(**searcher.best_params_)\n",
        "clf_svm.fit(x_train, y_train)\n",
        "y_pred = clf_svm.predict(x_test)\n",
        "\n",
        "evaluar_predicciones(y_test, y_pred)\n",
        "\n",
        "resultados_svm = mt_conf(y_test, y_pred, x_test, clf_svm)"
      ]
    },
    {
      "cell_type": "code",
      "execution_count": 25,
      "metadata": {
        "colab": {
          "base_uri": "https://localhost:8080/",
          "height": 144
        },
        "id": "Kyqxx23nbin5",
        "outputId": "a5b4ac60-6783-4700-83e9-9caf422c494b"
      },
      "outputs": [
        {
          "output_type": "execute_result",
          "data": {
            "text/html": [
              "\n",
              "  <div id=\"df-c749ee6b-bf29-4a0c-bfb3-7a198942708a\">\n",
              "    <div class=\"colab-df-container\">\n",
              "      <div>\n",
              "<style scoped>\n",
              "    .dataframe tbody tr th:only-of-type {\n",
              "        vertical-align: middle;\n",
              "    }\n",
              "\n",
              "    .dataframe tbody tr th {\n",
              "        vertical-align: top;\n",
              "    }\n",
              "\n",
              "    .dataframe thead th {\n",
              "        text-align: right;\n",
              "    }\n",
              "</style>\n",
              "<table border=\"1\" class=\"dataframe\">\n",
              "  <thead>\n",
              "    <tr style=\"text-align: right;\">\n",
              "      <th></th>\n",
              "      <th>modelo</th>\n",
              "      <th>score</th>\n",
              "    </tr>\n",
              "  </thead>\n",
              "  <tbody>\n",
              "    <tr>\n",
              "      <th>0</th>\n",
              "      <td>Descion Tree</td>\n",
              "      <td>99.962</td>\n",
              "    </tr>\n",
              "    <tr>\n",
              "      <th>1</th>\n",
              "      <td>Random Forest</td>\n",
              "      <td>99.962</td>\n",
              "    </tr>\n",
              "    <tr>\n",
              "      <th>2</th>\n",
              "      <td>SVM</td>\n",
              "      <td>100.000</td>\n",
              "    </tr>\n",
              "  </tbody>\n",
              "</table>\n",
              "</div>\n",
              "      <button class=\"colab-df-convert\" onclick=\"convertToInteractive('df-c749ee6b-bf29-4a0c-bfb3-7a198942708a')\"\n",
              "              title=\"Convert this dataframe to an interactive table.\"\n",
              "              style=\"display:none;\">\n",
              "        \n",
              "  <svg xmlns=\"http://www.w3.org/2000/svg\" height=\"24px\"viewBox=\"0 0 24 24\"\n",
              "       width=\"24px\">\n",
              "    <path d=\"M0 0h24v24H0V0z\" fill=\"none\"/>\n",
              "    <path d=\"M18.56 5.44l.94 2.06.94-2.06 2.06-.94-2.06-.94-.94-2.06-.94 2.06-2.06.94zm-11 1L8.5 8.5l.94-2.06 2.06-.94-2.06-.94L8.5 2.5l-.94 2.06-2.06.94zm10 10l.94 2.06.94-2.06 2.06-.94-2.06-.94-.94-2.06-.94 2.06-2.06.94z\"/><path d=\"M17.41 7.96l-1.37-1.37c-.4-.4-.92-.59-1.43-.59-.52 0-1.04.2-1.43.59L10.3 9.45l-7.72 7.72c-.78.78-.78 2.05 0 2.83L4 21.41c.39.39.9.59 1.41.59.51 0 1.02-.2 1.41-.59l7.78-7.78 2.81-2.81c.8-.78.8-2.07 0-2.86zM5.41 20L4 18.59l7.72-7.72 1.47 1.35L5.41 20z\"/>\n",
              "  </svg>\n",
              "      </button>\n",
              "      \n",
              "  <style>\n",
              "    .colab-df-container {\n",
              "      display:flex;\n",
              "      flex-wrap:wrap;\n",
              "      gap: 12px;\n",
              "    }\n",
              "\n",
              "    .colab-df-convert {\n",
              "      background-color: #E8F0FE;\n",
              "      border: none;\n",
              "      border-radius: 50%;\n",
              "      cursor: pointer;\n",
              "      display: none;\n",
              "      fill: #1967D2;\n",
              "      height: 32px;\n",
              "      padding: 0 0 0 0;\n",
              "      width: 32px;\n",
              "    }\n",
              "\n",
              "    .colab-df-convert:hover {\n",
              "      background-color: #E2EBFA;\n",
              "      box-shadow: 0px 1px 2px rgba(60, 64, 67, 0.3), 0px 1px 3px 1px rgba(60, 64, 67, 0.15);\n",
              "      fill: #174EA6;\n",
              "    }\n",
              "\n",
              "    [theme=dark] .colab-df-convert {\n",
              "      background-color: #3B4455;\n",
              "      fill: #D2E3FC;\n",
              "    }\n",
              "\n",
              "    [theme=dark] .colab-df-convert:hover {\n",
              "      background-color: #434B5C;\n",
              "      box-shadow: 0px 1px 3px 1px rgba(0, 0, 0, 0.15);\n",
              "      filter: drop-shadow(0px 1px 2px rgba(0, 0, 0, 0.3));\n",
              "      fill: #FFFFFF;\n",
              "    }\n",
              "  </style>\n",
              "\n",
              "      <script>\n",
              "        const buttonEl =\n",
              "          document.querySelector('#df-c749ee6b-bf29-4a0c-bfb3-7a198942708a button.colab-df-convert');\n",
              "        buttonEl.style.display =\n",
              "          google.colab.kernel.accessAllowed ? 'block' : 'none';\n",
              "\n",
              "        async function convertToInteractive(key) {\n",
              "          const element = document.querySelector('#df-c749ee6b-bf29-4a0c-bfb3-7a198942708a');\n",
              "          const dataTable =\n",
              "            await google.colab.kernel.invokeFunction('convertToInteractive',\n",
              "                                                     [key], {});\n",
              "          if (!dataTable) return;\n",
              "\n",
              "          const docLinkHtml = 'Like what you see? Visit the ' +\n",
              "            '<a target=\"_blank\" href=https://colab.research.google.com/notebooks/data_table.ipynb>data table notebook</a>'\n",
              "            + ' to learn more about interactive tables.';\n",
              "          element.innerHTML = '';\n",
              "          dataTable['output_type'] = 'display_data';\n",
              "          await google.colab.output.renderOutput(dataTable, element);\n",
              "          const docLink = document.createElement('div');\n",
              "          docLink.innerHTML = docLinkHtml;\n",
              "          element.appendChild(docLink);\n",
              "        }\n",
              "      </script>\n",
              "    </div>\n",
              "  </div>\n",
              "  "
            ],
            "text/plain": [
              "          modelo    score\n",
              "0   Descion Tree   99.962\n",
              "1  Random Forest   99.962\n",
              "2            SVM  100.000"
            ]
          },
          "metadata": {},
          "execution_count": 25
        }
      ],
      "source": [
        "#@title Resumen de resultados\n",
        "resultados = {'modelo': [\"Descion Tree\", \"Random Forest\", \"SVM\"],\n",
        "              'score': [resultados_desicion_tree,\n",
        "                         resultados_random_forest,\n",
        "                         resultados_svm]}\n",
        "\n",
        "res = pd.DataFrame(resultados)\n",
        "res"
      ]
    }
  ],
  "metadata": {
    "colab": {
      "name": "Aprendizaje_Maquina_29DIC.ipynb",
      "provenance": []
    },
    "kernelspec": {
      "display_name": "Python 3",
      "language": "python",
      "name": "python3"
    },
    "language_info": {
      "codemirror_mode": {
        "name": "ipython",
        "version": 3
      },
      "file_extension": ".py",
      "mimetype": "text/x-python",
      "name": "python",
      "nbconvert_exporter": "python",
      "pygments_lexer": "ipython3",
      "version": "3.8.10"
    }
  },
  "nbformat": 4,
  "nbformat_minor": 0
}