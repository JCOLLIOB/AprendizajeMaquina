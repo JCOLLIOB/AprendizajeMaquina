{
  "nbformat": 4,
  "nbformat_minor": 0,
  "metadata": {
    "colab": {
      "name": "Entrega2_Raquel.ipynb",
      "provenance": []
    },
    "kernelspec": {
      "name": "python3",
      "display_name": "Python 3"
    },
    "language_info": {
      "name": "python"
    }
  },
  "cells": [
    {
      "cell_type": "code",
      "metadata": {
        "id": "8jps_unDOk56"
      },
      "source": [
        "#Importación de librerias\n",
        "\n",
        "import pandas as pd\n",
        "import matplotlib.pyplot as plt\n",
        "import numpy as np\n",
        "import xgboost as xgb\n",
        "import seaborn as sn\n",
        "\n",
        "from sklearn.model_selection import train_test_split\n",
        "from sklearn.metrics import plot_confusion_matrix\n",
        "from sklearn.metrics import accuracy_score\n",
        "from sklearn.metrics import confusion_matrix\n",
        "\n",
        "from sklearn.tree import DecisionTreeClassifier\n",
        "from sklearn.ensemble import RandomForestClassifier\n",
        "from sklearn.svm import SVC"
      ],
      "execution_count": 1,
      "outputs": []
    },
    {
      "cell_type": "code",
      "metadata": {
        "colab": {
          "base_uri": "https://localhost:8080/"
        },
        "id": "hL8eQh6TQLYQ",
        "outputId": "28e77f1f-826a-426e-8a7e-4698a402d0c3"
      },
      "source": [
        "from google.colab import drive\n",
        "drive.mount(\"/content/drive/\")\n",
        "\n",
        "data = pd.read_csv(\"/content/drive/MyDrive/DATA_TAREAS/base_postgrado_v2.csv\")"
      ],
      "execution_count": 2,
      "outputs": [
        {
          "output_type": "stream",
          "name": "stdout",
          "text": [
            "Drive already mounted at /content/drive/; to attempt to forcibly remount, call drive.mount(\"/content/drive/\", force_remount=True).\n"
          ]
        }
      ]
    },
    {
      "cell_type": "code",
      "metadata": {
        "colab": {
          "base_uri": "https://localhost:8080/"
        },
        "id": "CcPJT_c8RhNB",
        "outputId": "8cc532da-3418-41a9-e41d-20f8f2c92fec"
      },
      "source": [
        "data.shape"
      ],
      "execution_count": 3,
      "outputs": [
        {
          "output_type": "execute_result",
          "data": {
            "text/plain": [
              "(13985, 16)"
            ]
          },
          "metadata": {},
          "execution_count": 3
        }
      ]
    },
    {
      "cell_type": "code",
      "metadata": {
        "colab": {
          "base_uri": "https://localhost:8080/",
          "height": 469
        },
        "id": "OWGRq0TQ5jox",
        "outputId": "acc58742-34f8-4355-cd96-ad302cd692b9"
      },
      "source": [
        "data.head(5)"
      ],
      "execution_count": 4,
      "outputs": [
        {
          "output_type": "execute_result",
          "data": {
            "text/html": [
              "<div>\n",
              "<style scoped>\n",
              "    .dataframe tbody tr th:only-of-type {\n",
              "        vertical-align: middle;\n",
              "    }\n",
              "\n",
              "    .dataframe tbody tr th {\n",
              "        vertical-align: top;\n",
              "    }\n",
              "\n",
              "    .dataframe thead th {\n",
              "        text-align: right;\n",
              "    }\n",
              "</style>\n",
              "<table border=\"1\" class=\"dataframe\">\n",
              "  <thead>\n",
              "    <tr style=\"text-align: right;\">\n",
              "      <th></th>\n",
              "      <th>id</th>\n",
              "      <th>genero</th>\n",
              "      <th>idgenero</th>\n",
              "      <th>año_ingreso</th>\n",
              "      <th>semestre_trimestre</th>\n",
              "      <th>idprograma</th>\n",
              "      <th>programa</th>\n",
              "      <th>facultad</th>\n",
              "      <th>campus</th>\n",
              "      <th>sede</th>\n",
              "      <th>jornada</th>\n",
              "      <th>duracionprograma</th>\n",
              "      <th>añooportuno</th>\n",
              "      <th>estadoalumno</th>\n",
              "      <th>idestadoalumno</th>\n",
              "      <th>tipoprograma</th>\n",
              "    </tr>\n",
              "  </thead>\n",
              "  <tbody>\n",
              "    <tr>\n",
              "      <th>0</th>\n",
              "      <td>1</td>\n",
              "      <td>Mujer</td>\n",
              "      <td>0</td>\n",
              "      <td>2014</td>\n",
              "      <td>1</td>\n",
              "      <td>IPPG15349</td>\n",
              "      <td>MBA con Especialización en Salud</td>\n",
              "      <td>IPPG</td>\n",
              "      <td>REP</td>\n",
              "      <td>Santiago</td>\n",
              "      <td>Diurna</td>\n",
              "      <td>4</td>\n",
              "      <td>2016</td>\n",
              "      <td>Desertor</td>\n",
              "      <td>0</td>\n",
              "      <td>Magíster</td>\n",
              "    </tr>\n",
              "    <tr>\n",
              "      <th>1</th>\n",
              "      <td>2</td>\n",
              "      <td>Mujer</td>\n",
              "      <td>0</td>\n",
              "      <td>2014</td>\n",
              "      <td>1</td>\n",
              "      <td>UNAB25434</td>\n",
              "      <td>Magister en Terapia Ocupacional con Menciones</td>\n",
              "      <td>Ciencias de la Rehabilitación</td>\n",
              "      <td>CAS</td>\n",
              "      <td>Santiago</td>\n",
              "      <td>Vespertina</td>\n",
              "      <td>3</td>\n",
              "      <td>2016</td>\n",
              "      <td>Desertor</td>\n",
              "      <td>0</td>\n",
              "      <td>Magíster</td>\n",
              "    </tr>\n",
              "    <tr>\n",
              "      <th>2</th>\n",
              "      <td>3</td>\n",
              "      <td>Hombre</td>\n",
              "      <td>1</td>\n",
              "      <td>2018</td>\n",
              "      <td>1</td>\n",
              "      <td>UNAB25410</td>\n",
              "      <td>Magister en Enseñanza del Inglés Como Lengua E...</td>\n",
              "      <td>Educación y Ciencias Sociales</td>\n",
              "      <td>VIN</td>\n",
              "      <td>Viña del Mar</td>\n",
              "      <td>Vespertina</td>\n",
              "      <td>4</td>\n",
              "      <td>2020</td>\n",
              "      <td>Activo</td>\n",
              "      <td>1</td>\n",
              "      <td>Magíster</td>\n",
              "    </tr>\n",
              "    <tr>\n",
              "      <th>3</th>\n",
              "      <td>4</td>\n",
              "      <td>Hombre</td>\n",
              "      <td>1</td>\n",
              "      <td>2018</td>\n",
              "      <td>2</td>\n",
              "      <td>UNAB35311</td>\n",
              "      <td>Magister en Docencia para la Educación Superior</td>\n",
              "      <td>Educación y Ciencias Sociales</td>\n",
              "      <td>REP</td>\n",
              "      <td>Santiago</td>\n",
              "      <td>On Line</td>\n",
              "      <td>4</td>\n",
              "      <td>2021</td>\n",
              "      <td>Activo</td>\n",
              "      <td>1</td>\n",
              "      <td>Magíster</td>\n",
              "    </tr>\n",
              "    <tr>\n",
              "      <th>4</th>\n",
              "      <td>5</td>\n",
              "      <td>Mujer</td>\n",
              "      <td>0</td>\n",
              "      <td>2018</td>\n",
              "      <td>2</td>\n",
              "      <td>UNAB35405</td>\n",
              "      <td>Magister en Dirección y Liderazgo para la Gest...</td>\n",
              "      <td>Educación y Ciencias Sociales</td>\n",
              "      <td>REP</td>\n",
              "      <td>Santiago</td>\n",
              "      <td>On Line</td>\n",
              "      <td>4</td>\n",
              "      <td>2021</td>\n",
              "      <td>Activo</td>\n",
              "      <td>1</td>\n",
              "      <td>Magíster</td>\n",
              "    </tr>\n",
              "  </tbody>\n",
              "</table>\n",
              "</div>"
            ],
            "text/plain": [
              "   id  genero  idgenero  ...  estadoalumno  idestadoalumno tipoprograma\n",
              "0   1   Mujer         0  ...      Desertor               0     Magíster\n",
              "1   2   Mujer         0  ...      Desertor               0     Magíster\n",
              "2   3  Hombre         1  ...        Activo               1     Magíster\n",
              "3   4  Hombre         1  ...        Activo               1     Magíster\n",
              "4   5   Mujer         0  ...        Activo               1     Magíster\n",
              "\n",
              "[5 rows x 16 columns]"
            ]
          },
          "metadata": {},
          "execution_count": 4
        }
      ]
    },
    {
      "cell_type": "markdown",
      "metadata": {
        "id": "t1aTco5fUq2T"
      },
      "source": [
        "# 4. Describir desafíos"
      ]
    },
    {
      "cell_type": "code",
      "metadata": {
        "colab": {
          "base_uri": "https://localhost:8080/"
        },
        "id": "vDwi2c0DS2vD",
        "outputId": "72bab5e9-0ed1-4e81-acbf-9b334acbbb25"
      },
      "source": [
        "#@title Contar duracción del programa\n",
        "data['duracionprograma'].value_counts()"
      ],
      "execution_count": 5,
      "outputs": [
        {
          "output_type": "execute_result",
          "data": {
            "text/plain": [
              "4     11752\n",
              "3      1167\n",
              "26      545\n",
              "28      403\n",
              "2       118\n",
              "Name: duracionprograma, dtype: int64"
            ]
          },
          "metadata": {},
          "execution_count": 5
        }
      ]
    },
    {
      "cell_type": "code",
      "metadata": {
        "colab": {
          "base_uri": "https://localhost:8080/"
        },
        "id": "vGIrUfpjUSuK",
        "outputId": "186cac7f-3fcf-4b9e-abb3-a19a2316b385"
      },
      "source": [
        "data.shape"
      ],
      "execution_count": 6,
      "outputs": [
        {
          "output_type": "execute_result",
          "data": {
            "text/plain": [
              "(13985, 16)"
            ]
          },
          "metadata": {},
          "execution_count": 6
        }
      ]
    },
    {
      "cell_type": "code",
      "metadata": {
        "id": "59oCw1qWO5yf"
      },
      "source": [
        " # Datos outliers\n",
        " #----------------\n",
        " # Valores atipicos, no son ta representativos\n",
        "\n",
        " ## el simbolo \"~\" niega las condiciones\n",
        " cond1 = data['duracionprograma'] == 26\n",
        " cond2 = data['duracionprograma'] == 28\n",
        " data = data[~cond1 & ~cond2]\n",
        "  "
      ],
      "execution_count": 7,
      "outputs": []
    },
    {
      "cell_type": "code",
      "metadata": {
        "colab": {
          "base_uri": "https://localhost:8080/"
        },
        "id": "0Mx_ZuvaUZAv",
        "outputId": "f6fafd70-1f7f-41a2-c9f4-16c5d1a84626"
      },
      "source": [
        "data.shape"
      ],
      "execution_count": 8,
      "outputs": [
        {
          "output_type": "execute_result",
          "data": {
            "text/plain": [
              "(13037, 16)"
            ]
          },
          "metadata": {},
          "execution_count": 8
        }
      ]
    },
    {
      "cell_type": "code",
      "metadata": {
        "id": "RCQAj4G6yU7z",
        "colab": {
          "base_uri": "https://localhost:8080/"
        },
        "outputId": "b7ce2f01-8a21-48a2-c6fb-91ace3abb799"
      },
      "source": [
        "#@title Contar Activos y Desertores\n",
        "#podria genera un Over\n",
        "data['estadoalumno'].value_counts()"
      ],
      "execution_count": 9,
      "outputs": [
        {
          "output_type": "execute_result",
          "data": {
            "text/plain": [
              "Desertor    8641\n",
              "Activo      4396\n",
              "Name: estadoalumno, dtype: int64"
            ]
          },
          "metadata": {},
          "execution_count": 9
        }
      ]
    },
    {
      "cell_type": "code",
      "metadata": {
        "id": "KKsrA3pxUNjC"
      },
      "source": [
        " # Desequilibrio del dataset\n",
        "#aqui me quedo con todos los alumnos que su estado es activo\n",
        "activos = data[data['estadoalumno'] == 'Activo']\n",
        "#otro filtro solo para los desertores, muestreo (sampleo) solo los alumnos desertores con la misma cantidad de los alumnos activos\n",
        "#le metodo samplen de pandas en randon\n",
        "desertores = data[data['estadoalumno'] == 'Desertor'].sample(n=len(activos))\n",
        "#junto las tablas de activos y desertores\n",
        "data = pd.concat([desertores, activos])\n",
        "    "
      ],
      "execution_count": 10,
      "outputs": []
    },
    {
      "cell_type": "code",
      "metadata": {
        "colab": {
          "base_uri": "https://localhost:8080/"
        },
        "id": "DTM9uJ-QtK3z",
        "outputId": "d792b78e-4923-4942-9484-e84c75714c9c"
      },
      "source": [
        "data['estadoalumno'].value_counts()"
      ],
      "execution_count": 11,
      "outputs": [
        {
          "output_type": "execute_result",
          "data": {
            "text/plain": [
              "Desertor    4396\n",
              "Activo      4396\n",
              "Name: estadoalumno, dtype: int64"
            ]
          },
          "metadata": {},
          "execution_count": 11
        }
      ]
    },
    {
      "cell_type": "code",
      "metadata": {
        "id": "yLVpuINFQHxr"
      },
      "source": [
        "columns = ['genero',          \n",
        "           'semestre_trimestre',\n",
        "           'programa',\n",
        "           'facultad',\n",
        "           'campus',\n",
        "           'sede',\n",
        "           'jornada',\n",
        "           'duracionprograma',\n",
        "         # 'añooportuno',\n",
        "           'estadoalumno',\n",
        "           'tipoprograma',\n",
        "           'año_ingreso']\n",
        "\n",
        "data = data[columns]\n",
        "for col in columns:\n",
        "      data[col] = data[col].astype(\"category\").cat.codes\n",
        "      "
      ],
      "execution_count": 12,
      "outputs": []
    },
    {
      "cell_type": "code",
      "metadata": {
        "colab": {
          "base_uri": "https://localhost:8080/",
          "height": 206
        },
        "id": "W85lt4PPwwAQ",
        "outputId": "1cc4ad98-7a6b-4550-bcbe-187dbc43433b"
      },
      "source": [
        "data.head(5)"
      ],
      "execution_count": 13,
      "outputs": [
        {
          "output_type": "execute_result",
          "data": {
            "text/html": [
              "<div>\n",
              "<style scoped>\n",
              "    .dataframe tbody tr th:only-of-type {\n",
              "        vertical-align: middle;\n",
              "    }\n",
              "\n",
              "    .dataframe tbody tr th {\n",
              "        vertical-align: top;\n",
              "    }\n",
              "\n",
              "    .dataframe thead th {\n",
              "        text-align: right;\n",
              "    }\n",
              "</style>\n",
              "<table border=\"1\" class=\"dataframe\">\n",
              "  <thead>\n",
              "    <tr style=\"text-align: right;\">\n",
              "      <th></th>\n",
              "      <th>genero</th>\n",
              "      <th>semestre_trimestre</th>\n",
              "      <th>programa</th>\n",
              "      <th>facultad</th>\n",
              "      <th>campus</th>\n",
              "      <th>sede</th>\n",
              "      <th>jornada</th>\n",
              "      <th>duracionprograma</th>\n",
              "      <th>estadoalumno</th>\n",
              "      <th>tipoprograma</th>\n",
              "      <th>año_ingreso</th>\n",
              "    </tr>\n",
              "  </thead>\n",
              "  <tbody>\n",
              "    <tr>\n",
              "      <th>3602</th>\n",
              "      <td>1</td>\n",
              "      <td>0</td>\n",
              "      <td>5</td>\n",
              "      <td>4</td>\n",
              "      <td>1</td>\n",
              "      <td>1</td>\n",
              "      <td>2</td>\n",
              "      <td>2</td>\n",
              "      <td>1</td>\n",
              "      <td>0</td>\n",
              "      <td>3</td>\n",
              "    </tr>\n",
              "    <tr>\n",
              "      <th>6171</th>\n",
              "      <td>1</td>\n",
              "      <td>0</td>\n",
              "      <td>2</td>\n",
              "      <td>3</td>\n",
              "      <td>2</td>\n",
              "      <td>1</td>\n",
              "      <td>2</td>\n",
              "      <td>2</td>\n",
              "      <td>1</td>\n",
              "      <td>0</td>\n",
              "      <td>1</td>\n",
              "    </tr>\n",
              "    <tr>\n",
              "      <th>645</th>\n",
              "      <td>1</td>\n",
              "      <td>0</td>\n",
              "      <td>5</td>\n",
              "      <td>4</td>\n",
              "      <td>2</td>\n",
              "      <td>1</td>\n",
              "      <td>2</td>\n",
              "      <td>2</td>\n",
              "      <td>1</td>\n",
              "      <td>0</td>\n",
              "      <td>0</td>\n",
              "    </tr>\n",
              "    <tr>\n",
              "      <th>10334</th>\n",
              "      <td>1</td>\n",
              "      <td>0</td>\n",
              "      <td>6</td>\n",
              "      <td>4</td>\n",
              "      <td>1</td>\n",
              "      <td>1</td>\n",
              "      <td>2</td>\n",
              "      <td>2</td>\n",
              "      <td>1</td>\n",
              "      <td>0</td>\n",
              "      <td>1</td>\n",
              "    </tr>\n",
              "    <tr>\n",
              "      <th>5745</th>\n",
              "      <td>1</td>\n",
              "      <td>0</td>\n",
              "      <td>6</td>\n",
              "      <td>4</td>\n",
              "      <td>7</td>\n",
              "      <td>1</td>\n",
              "      <td>1</td>\n",
              "      <td>2</td>\n",
              "      <td>1</td>\n",
              "      <td>0</td>\n",
              "      <td>1</td>\n",
              "    </tr>\n",
              "  </tbody>\n",
              "</table>\n",
              "</div>"
            ],
            "text/plain": [
              "       genero  semestre_trimestre  ...  tipoprograma  año_ingreso\n",
              "3602        1                   0  ...             0            3\n",
              "6171        1                   0  ...             0            1\n",
              "645         1                   0  ...             0            0\n",
              "10334       1                   0  ...             0            1\n",
              "5745        1                   0  ...             0            1\n",
              "\n",
              "[5 rows x 11 columns]"
            ]
          },
          "metadata": {},
          "execution_count": 13
        }
      ]
    },
    {
      "cell_type": "markdown",
      "metadata": {
        "id": "iS-PcFKNX8eC"
      },
      "source": [
        "# 3. Presentación de Experimentos"
      ]
    },
    {
      "cell_type": "code",
      "metadata": {
        "id": "O1Ei66GlX_G7"
      },
      "source": [
        "#from sklearn.model_selection import train_test_split\n",
        "\n",
        "# defimos un dataset con relacion 20% para test 80% para entrenamiento\n",
        "\n",
        "data_train, data_test = train_test_split(data, test_size=0.2)\n",
        "\n",
        "#separo las variables target (estado alumno) de la variagles que el modelo necesita para predecir (feature)\n",
        "#saco la columan estado alumno (que es el target) axis 1 eje Y\n",
        "x_train = data_train.drop(labels='estadoalumno', axis=1)\n",
        "y_train = data_train['estadoalumno']\n",
        "\n",
        "#lo mismo pero con el test\n",
        "x_test = data_test.drop(labels='estadoalumno', axis=1)\n",
        "y_test = data_test['estadoalumno']"
      ],
      "execution_count": 14,
      "outputs": []
    },
    {
      "cell_type": "code",
      "metadata": {
        "colab": {
          "base_uri": "https://localhost:8080/"
        },
        "id": "JalsO1rBYQYa",
        "outputId": "43ea314c-4d11-46ba-d63e-b61cec576e53"
      },
      "source": [
        "len(data_train), len(data_test)"
      ],
      "execution_count": 15,
      "outputs": [
        {
          "output_type": "execute_result",
          "data": {
            "text/plain": [
              "(7033, 1759)"
            ]
          },
          "metadata": {},
          "execution_count": 15
        }
      ]
    },
    {
      "cell_type": "markdown",
      "metadata": {
        "id": "pQZD8IhoYk59"
      },
      "source": [
        "# Entrenamientos de los modelos\n",
        "\n",
        "* Decision tree\n",
        "* Random Forest\n",
        "* SVM"
      ]
    },
    {
      "cell_type": "code",
      "metadata": {
        "id": "RhRiUzqsY3DU"
      },
      "source": [
        "# definicion de la funcion para evaluar los modelos\n",
        "\n",
        "def evaluar_predicciones(y_true, y_pred, x_test, model):\n",
        "    string = \"La precision del modelo es: {}%\".format(100*accuracy_score(y_true, y_pred))\n",
        "    plt.figure(figsize=(12, 7))\n",
        "    plot_confusion_matrix(model, x_test, y_test)\n",
        "    plt.title(string, fontsize='15')\n",
        "    plt.show()\n",
        "    \n",
        "    return round(100*accuracy_score(y_true, y_pred), 3)"
      ],
      "execution_count": 16,
      "outputs": []
    },
    {
      "cell_type": "code",
      "metadata": {
        "colab": {
          "base_uri": "https://localhost:8080/",
          "height": 369
        },
        "id": "a-mA3BaFZDd3",
        "outputId": "7c7bc210-f47d-44ce-e6e7-d226cda332d8"
      },
      "source": [
        "#@title Decision tree\n",
        "\n",
        "clf_desicion_tree = DecisionTreeClassifier()\n",
        "clf_desicion_tree.fit(x_train, y_train)\n",
        "#  predicciones\n",
        "#al modelo entrenado le paso los datos de testeo, solo feature\n",
        "y_pred = clf_desicion_tree.predict(x_test)\n",
        "\n",
        "#aplico las metricas para evaluar el modelo\n",
        "resultados_desicion_tree = evaluar_predicciones(y_test, y_pred, x_test, clf_desicion_tree)"
      ],
      "execution_count": 17,
      "outputs": [
        {
          "output_type": "stream",
          "name": "stderr",
          "text": [
            "/usr/local/lib/python3.7/dist-packages/sklearn/utils/deprecation.py:87: FutureWarning: Function plot_confusion_matrix is deprecated; Function `plot_confusion_matrix` is deprecated in 1.0 and will be removed in 1.2. Use one of the class methods: ConfusionMatrixDisplay.from_predictions or ConfusionMatrixDisplay.from_estimator.\n",
            "  warnings.warn(msg, category=FutureWarning)\n"
          ]
        },
        {
          "output_type": "display_data",
          "data": {
            "text/plain": [
              "<Figure size 864x504 with 0 Axes>"
            ]
          },
          "metadata": {}
        },
        {
          "output_type": "display_data",
          "data": {
            "image/png": "[encoded data removed]",
            "text/plain": [
              "<Figure size 432x288 with 2 Axes>"
            ]
          },
          "metadata": {
            "needs_background": "light"
          }
        }
      ]
    },
    {
      "cell_type": "code",
      "metadata": {
        "colab": {
          "base_uri": "https://localhost:8080/",
          "height": 369
        },
        "id": "C10La5Ddaufj",
        "outputId": "5bd2bfd0-ceb5-4aed-d5d3-9e7ca6e745ff"
      },
      "source": [
        "#@title Random Forest\n",
        "\n",
        "clf_random_forest = RandomForestClassifier()\n",
        "clf_random_forest.fit(x_train, y_train)\n",
        "#  predicciones\n",
        "y_pred = clf_random_forest.predict(x_test)\n",
        "\n",
        "resultados_random_forest = evaluar_predicciones(y_test, y_pred, x_test, clf_random_forest)"
      ],
      "execution_count": 18,
      "outputs": [
        {
          "output_type": "stream",
          "name": "stderr",
          "text": [
            "/usr/local/lib/python3.7/dist-packages/sklearn/utils/deprecation.py:87: FutureWarning: Function plot_confusion_matrix is deprecated; Function `plot_confusion_matrix` is deprecated in 1.0 and will be removed in 1.2. Use one of the class methods: ConfusionMatrixDisplay.from_predictions or ConfusionMatrixDisplay.from_estimator.\n",
            "  warnings.warn(msg, category=FutureWarning)\n"
          ]
        },
        {
          "output_type": "display_data",
          "data": {
            "text/plain": [
              "<Figure size 864x504 with 0 Axes>"
            ]
          },
          "metadata": {}
        },
        {
          "output_type": "display_data",
          "data": {
            "image/png": "[encoded data removed]",
            "text/plain": [
              "<Figure size 432x288 with 2 Axes>"
            ]
          },
          "metadata": {
            "needs_background": "light"
          }
        }
      ]
    },
    {
      "cell_type": "code",
      "metadata": {
        "colab": {
          "base_uri": "https://localhost:8080/",
          "height": 369
        },
        "id": "yx8AUeBFoF7o",
        "outputId": "18aac062-3a0c-43dd-e435-8112dbae4d9d"
      },
      "source": [
        "#@title SVM\n",
        "\n",
        "clf_svm = SVC()\n",
        "clf_svm.fit(x_train, y_train)\n",
        "\n",
        "y_pred = clf_svm.predict(x_test)\n",
        "resultados_svm = evaluar_predicciones(y_test, y_pred, x_test, clf_svm)"
      ],
      "execution_count": 19,
      "outputs": [
        {
          "output_type": "stream",
          "name": "stderr",
          "text": [
            "/usr/local/lib/python3.7/dist-packages/sklearn/utils/deprecation.py:87: FutureWarning: Function plot_confusion_matrix is deprecated; Function `plot_confusion_matrix` is deprecated in 1.0 and will be removed in 1.2. Use one of the class methods: ConfusionMatrixDisplay.from_predictions or ConfusionMatrixDisplay.from_estimator.\n",
            "  warnings.warn(msg, category=FutureWarning)\n"
          ]
        },
        {
          "output_type": "display_data",
          "data": {
            "text/plain": [
              "<Figure size 864x504 with 0 Axes>"
            ]
          },
          "metadata": {}
        },
        {
          "output_type": "display_data",
          "data": {
            "image/png": "[encoded data removed]",
            "text/plain": [
              "<Figure size 432x288 with 2 Axes>"
            ]
          },
          "metadata": {
            "needs_background": "light"
          }
        }
      ]
    },
    {
      "cell_type": "code",
      "metadata": {
        "colab": {
          "base_uri": "https://localhost:8080/",
          "height": 143
        },
        "id": "Kyqxx23nbin5",
        "outputId": "fab5b61b-dc6b-4c42-a2a7-a1b48985c4a7"
      },
      "source": [
        "#@title Resumen de resultados\n",
        "resultados = {'modelo': [\"Descion Tree\", \"Random Forest\", \"SVM\"],\n",
        "              'score': [resultados_desicion_tree,\n",
        "                         resultados_random_forest,\n",
        "                         resultados_svm]}\n",
        "\n",
        "res = pd.DataFrame(resultados)\n",
        "res"
      ],
      "execution_count": 20,
      "outputs": [
        {
          "output_type": "execute_result",
          "data": {
            "text/html": [
              "<div>\n",
              "<style scoped>\n",
              "    .dataframe tbody tr th:only-of-type {\n",
              "        vertical-align: middle;\n",
              "    }\n",
              "\n",
              "    .dataframe tbody tr th {\n",
              "        vertical-align: top;\n",
              "    }\n",
              "\n",
              "    .dataframe thead th {\n",
              "        text-align: right;\n",
              "    }\n",
              "</style>\n",
              "<table border=\"1\" class=\"dataframe\">\n",
              "  <thead>\n",
              "    <tr style=\"text-align: right;\">\n",
              "      <th></th>\n",
              "      <th>modelo</th>\n",
              "      <th>score</th>\n",
              "    </tr>\n",
              "  </thead>\n",
              "  <tbody>\n",
              "    <tr>\n",
              "      <th>0</th>\n",
              "      <td>Descion Tree</td>\n",
              "      <td>100.000</td>\n",
              "    </tr>\n",
              "    <tr>\n",
              "      <th>1</th>\n",
              "      <td>Random Forest</td>\n",
              "      <td>100.000</td>\n",
              "    </tr>\n",
              "    <tr>\n",
              "      <th>2</th>\n",
              "      <td>SVM</td>\n",
              "      <td>98.806</td>\n",
              "    </tr>\n",
              "  </tbody>\n",
              "</table>\n",
              "</div>"
            ],
            "text/plain": [
              "          modelo    score\n",
              "0   Descion Tree  100.000\n",
              "1  Random Forest  100.000\n",
              "2            SVM   98.806"
            ]
          },
          "metadata": {},
          "execution_count": 20
        }
      ]
    },
    {
      "cell_type": "code",
      "metadata": {
        "colab": {
          "base_uri": "https://localhost:8080/"
        },
        "id": "0gFfEmE4sF9q",
        "outputId": "9cc0a4b6-2105-444d-d6ac-033eb7dbedfb"
      },
      "source": [
        "clf_svm.get_params()"
      ],
      "execution_count": 21,
      "outputs": [
        {
          "output_type": "execute_result",
          "data": {
            "text/plain": [
              "{'C': 1.0,\n",
              " 'break_ties': False,\n",
              " 'cache_size': 200,\n",
              " 'class_weight': None,\n",
              " 'coef0': 0.0,\n",
              " 'decision_function_shape': 'ovr',\n",
              " 'degree': 3,\n",
              " 'gamma': 'scale',\n",
              " 'kernel': 'rbf',\n",
              " 'max_iter': -1,\n",
              " 'probability': False,\n",
              " 'random_state': None,\n",
              " 'shrinking': True,\n",
              " 'tol': 0.001,\n",
              " 'verbose': False}"
            ]
          },
          "metadata": {},
          "execution_count": 21
        }
      ]
    },
    {
      "cell_type": "code",
      "metadata": {
        "colab": {
          "base_uri": "https://localhost:8080/"
        },
        "id": "gl3zZWMhsVbp",
        "outputId": "81a89f41-ddf2-49dd-fa4e-78ffa8b656c9"
      },
      "source": [
        "clf_random_forest.get_params()"
      ],
      "execution_count": 22,
      "outputs": [
        {
          "output_type": "execute_result",
          "data": {
            "text/plain": [
              "{'bootstrap': True,\n",
              " 'ccp_alpha': 0.0,\n",
              " 'class_weight': None,\n",
              " 'criterion': 'gini',\n",
              " 'max_depth': None,\n",
              " 'max_features': 'auto',\n",
              " 'max_leaf_nodes': None,\n",
              " 'max_samples': None,\n",
              " 'min_impurity_decrease': 0.0,\n",
              " 'min_samples_leaf': 1,\n",
              " 'min_samples_split': 2,\n",
              " 'min_weight_fraction_leaf': 0.0,\n",
              " 'n_estimators': 100,\n",
              " 'n_jobs': None,\n",
              " 'oob_score': False,\n",
              " 'random_state': None,\n",
              " 'verbose': 0,\n",
              " 'warm_start': False}"
            ]
          },
          "metadata": {},
          "execution_count": 22
        }
      ]
    },
    {
      "cell_type": "code",
      "metadata": {
        "colab": {
          "base_uri": "https://localhost:8080/"
        },
        "id": "lDaZr4tFsVlx",
        "outputId": "c5f94bd3-09bb-4768-e9c6-88d590693564"
      },
      "source": [
        "clf_desicion_tree.get_params()"
      ],
      "execution_count": 23,
      "outputs": [
        {
          "output_type": "execute_result",
          "data": {
            "text/plain": [
              "{'ccp_alpha': 0.0,\n",
              " 'class_weight': None,\n",
              " 'criterion': 'gini',\n",
              " 'max_depth': None,\n",
              " 'max_features': None,\n",
              " 'max_leaf_nodes': None,\n",
              " 'min_impurity_decrease': 0.0,\n",
              " 'min_samples_leaf': 1,\n",
              " 'min_samples_split': 2,\n",
              " 'min_weight_fraction_leaf': 0.0,\n",
              " 'random_state': None,\n",
              " 'splitter': 'best'}"
            ]
          },
          "metadata": {},
          "execution_count": 23
        }
      ]
    }
  ]
}