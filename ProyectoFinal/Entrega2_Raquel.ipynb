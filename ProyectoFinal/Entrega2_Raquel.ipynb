{
  "nbformat": 4,
  "nbformat_minor": 0,
  "metadata": {
    "colab": {
      "name": "Entrega2_Raquel.ipynb",
      "provenance": []
    },
    "kernelspec": {
      "name": "python3",
      "display_name": "Python 3"
    },
    "language_info": {
      "name": "python"
    }
  },
  "cells": [
    {
      "cell_type": "code",
      "metadata": {
        "id": "8jps_unDOk56"
      },
      "source": [
        "#Importación de librerias\n",
        "\n",
        "import pandas as pd\n",
        "import matplotlib.pyplot as plt\n",
        "import numpy as np\n",
        "import xgboost as xgb\n",
        "import seaborn as sn\n",
        "\n",
        "from sklearn.model_selection import train_test_split\n",
        "from sklearn.metrics import plot_confusion_matrix\n",
        "from sklearn.metrics import accuracy_score\n",
        "from sklearn.metrics import confusion_matrix\n",
        "\n",
        "from sklearn.tree import DecisionTreeClassifier\n",
        "from sklearn.ensemble import RandomForestClassifier\n",
        "from sklearn.svm import SVC"
      ],
      "execution_count": 1,
      "outputs": []
    },
    {
      "cell_type": "code",
      "metadata": {
        "colab": {
          "base_uri": "https://localhost:8080/"
        },
        "id": "hL8eQh6TQLYQ",
        "outputId": "13bf72d8-81c6-401f-9861-028cd47c9aa5"
      },
      "source": [
        "from google.colab import drive\n",
        "drive.mount(\"/content/drive/\")\n",
        "\n",
        "data = pd.read_csv(\"/content/drive/MyDrive/DATA_TAREAS/base_postgrado_v2.csv\")"
      ],
      "execution_count": 2,
      "outputs": [
        {
          "output_type": "stream",
          "name": "stdout",
          "text": [
            "Drive already mounted at /content/drive/; to attempt to forcibly remount, call drive.mount(\"/content/drive/\", force_remount=True).\n"
          ]
        }
      ]
    },
    {
      "cell_type": "code",
      "metadata": {
        "colab": {
          "base_uri": "https://localhost:8080/"
        },
        "id": "CcPJT_c8RhNB",
        "outputId": "205c0064-3ba6-473c-9d17-71991cae28fe"
      },
      "source": [
        "data.shape"
      ],
      "execution_count": 3,
      "outputs": [
        {
          "output_type": "execute_result",
          "data": {
            "text/plain": [
              "(13985, 16)"
            ]
          },
          "metadata": {},
          "execution_count": 3
        }
      ]
    },
    {
      "cell_type": "code",
      "metadata": {
        "colab": {
          "base_uri": "https://localhost:8080/",
          "height": 135
        },
        "id": "OWGRq0TQ5jox",
        "outputId": "659490e9-2727-432b-c91b-89395018f0c8"
      },
      "source": [
        "data.head(1)"
      ],
      "execution_count": 4,
      "outputs": [
        {
          "output_type": "execute_result",
          "data": {
            "text/html": [
              "<div>\n",
              "<style scoped>\n",
              "    .dataframe tbody tr th:only-of-type {\n",
              "        vertical-align: middle;\n",
              "    }\n",
              "\n",
              "    .dataframe tbody tr th {\n",
              "        vertical-align: top;\n",
              "    }\n",
              "\n",
              "    .dataframe thead th {\n",
              "        text-align: right;\n",
              "    }\n",
              "</style>\n",
              "<table border=\"1\" class=\"dataframe\">\n",
              "  <thead>\n",
              "    <tr style=\"text-align: right;\">\n",
              "      <th></th>\n",
              "      <th>id</th>\n",
              "      <th>genero</th>\n",
              "      <th>idgenero</th>\n",
              "      <th>año_ingreso</th>\n",
              "      <th>semestre_trimestre</th>\n",
              "      <th>idprograma</th>\n",
              "      <th>programa</th>\n",
              "      <th>facultad</th>\n",
              "      <th>campus</th>\n",
              "      <th>sede</th>\n",
              "      <th>jornada</th>\n",
              "      <th>duracionprograma</th>\n",
              "      <th>añooportuno</th>\n",
              "      <th>estadoalumno</th>\n",
              "      <th>idestadoalumno</th>\n",
              "      <th>tipoprograma</th>\n",
              "    </tr>\n",
              "  </thead>\n",
              "  <tbody>\n",
              "    <tr>\n",
              "      <th>0</th>\n",
              "      <td>1</td>\n",
              "      <td>Mujer</td>\n",
              "      <td>0</td>\n",
              "      <td>2014</td>\n",
              "      <td>1</td>\n",
              "      <td>IPPG15349</td>\n",
              "      <td>MBA con Especialización en Salud</td>\n",
              "      <td>IPPG</td>\n",
              "      <td>REP</td>\n",
              "      <td>Santiago</td>\n",
              "      <td>Diurna</td>\n",
              "      <td>4</td>\n",
              "      <td>2016</td>\n",
              "      <td>Desertor</td>\n",
              "      <td>0</td>\n",
              "      <td>Magíster</td>\n",
              "    </tr>\n",
              "  </tbody>\n",
              "</table>\n",
              "</div>"
            ],
            "text/plain": [
              "   id genero  idgenero  ...  estadoalumno  idestadoalumno tipoprograma\n",
              "0   1  Mujer         0  ...      Desertor               0     Magíster\n",
              "\n",
              "[1 rows x 16 columns]"
            ]
          },
          "metadata": {},
          "execution_count": 4
        }
      ]
    },
    {
      "cell_type": "markdown",
      "metadata": {
        "id": "t1aTco5fUq2T"
      },
      "source": [
        "# 4. Describir desafíos"
      ]
    },
    {
      "cell_type": "code",
      "metadata": {
        "colab": {
          "base_uri": "https://localhost:8080/"
        },
        "id": "vDwi2c0DS2vD",
        "outputId": "5af23ce4-9e6e-430d-d94d-b2835f073bb9"
      },
      "source": [
        "#@title Cuenta duracción del programa\n",
        "data['duracionprograma'].value_counts()"
      ],
      "execution_count": 5,
      "outputs": [
        {
          "output_type": "execute_result",
          "data": {
            "text/plain": [
              "4     11752\n",
              "3      1167\n",
              "26      545\n",
              "28      403\n",
              "2       118\n",
              "Name: duracionprograma, dtype: int64"
            ]
          },
          "metadata": {},
          "execution_count": 5
        }
      ]
    },
    {
      "cell_type": "code",
      "metadata": {
        "colab": {
          "base_uri": "https://localhost:8080/"
        },
        "id": "vGIrUfpjUSuK",
        "outputId": "2d0864ab-64d8-47a8-d706-568ef15a1353"
      },
      "source": [
        "data.shape"
      ],
      "execution_count": 6,
      "outputs": [
        {
          "output_type": "execute_result",
          "data": {
            "text/plain": [
              "(13985, 16)"
            ]
          },
          "metadata": {},
          "execution_count": 6
        }
      ]
    },
    {
      "cell_type": "code",
      "metadata": {
        "id": "59oCw1qWO5yf"
      },
      "source": [
        " # Datos outliers\n",
        " cond1 = data['duracionprograma'] == 26\n",
        " cond2 = data['duracionprograma'] == 28\n",
        " data = data[~cond1 & ~cond2]\n",
        "  "
      ],
      "execution_count": 7,
      "outputs": []
    },
    {
      "cell_type": "code",
      "metadata": {
        "colab": {
          "base_uri": "https://localhost:8080/"
        },
        "id": "0Mx_ZuvaUZAv",
        "outputId": "09577c41-8908-4650-c1ae-02278bb49554"
      },
      "source": [
        "data.shape"
      ],
      "execution_count": 8,
      "outputs": [
        {
          "output_type": "execute_result",
          "data": {
            "text/plain": [
              "(13037, 16)"
            ]
          },
          "metadata": {},
          "execution_count": 8
        }
      ]
    },
    {
      "cell_type": "code",
      "metadata": {
        "id": "RCQAj4G6yU7z",
        "colab": {
          "base_uri": "https://localhost:8080/"
        },
        "outputId": "55d9b399-98e5-416c-ef2b-29c2416a4ca3"
      },
      "source": [
        "#@title Cuenta Activos y Desertores\n",
        "data['estadoalumno'].value_counts()"
      ],
      "execution_count": 9,
      "outputs": [
        {
          "output_type": "execute_result",
          "data": {
            "text/plain": [
              "Desertor    8641\n",
              "Activo      4396\n",
              "Name: estadoalumno, dtype: int64"
            ]
          },
          "metadata": {},
          "execution_count": 9
        }
      ]
    },
    {
      "cell_type": "code",
      "metadata": {
        "id": "KKsrA3pxUNjC"
      },
      "source": [
        " # Desequilibrio del dataset\n",
        "activos = data[data['estadoalumno'] == 'Activo']\n",
        "desertores = data[data['estadoalumno'] == 'Desertor'].sample(n=len(activos))\n",
        "data = pd.concat([desertores, activos])\n",
        "    "
      ],
      "execution_count": 10,
      "outputs": []
    },
    {
      "cell_type": "code",
      "metadata": {
        "colab": {
          "base_uri": "https://localhost:8080/"
        },
        "id": "DTM9uJ-QtK3z",
        "outputId": "00fdc751-f8b7-4546-8c87-46c02830a40a"
      },
      "source": [
        "data['estadoalumno'].value_counts()"
      ],
      "execution_count": 11,
      "outputs": [
        {
          "output_type": "execute_result",
          "data": {
            "text/plain": [
              "Activo      4396\n",
              "Desertor    4396\n",
              "Name: estadoalumno, dtype: int64"
            ]
          },
          "metadata": {},
          "execution_count": 11
        }
      ]
    },
    {
      "cell_type": "code",
      "metadata": {
        "colab": {
          "base_uri": "https://localhost:8080/",
          "height": 219
        },
        "id": "I1bTVnaDci2f",
        "outputId": "db38b5cc-56c2-4c7b-b053-c25b7d7905c5"
      },
      "source": [
        "data.head(2)"
      ],
      "execution_count": 12,
      "outputs": [
        {
          "output_type": "execute_result",
          "data": {
            "text/html": [
              "<div>\n",
              "<style scoped>\n",
              "    .dataframe tbody tr th:only-of-type {\n",
              "        vertical-align: middle;\n",
              "    }\n",
              "\n",
              "    .dataframe tbody tr th {\n",
              "        vertical-align: top;\n",
              "    }\n",
              "\n",
              "    .dataframe thead th {\n",
              "        text-align: right;\n",
              "    }\n",
              "</style>\n",
              "<table border=\"1\" class=\"dataframe\">\n",
              "  <thead>\n",
              "    <tr style=\"text-align: right;\">\n",
              "      <th></th>\n",
              "      <th>id</th>\n",
              "      <th>genero</th>\n",
              "      <th>idgenero</th>\n",
              "      <th>año_ingreso</th>\n",
              "      <th>semestre_trimestre</th>\n",
              "      <th>idprograma</th>\n",
              "      <th>programa</th>\n",
              "      <th>facultad</th>\n",
              "      <th>campus</th>\n",
              "      <th>sede</th>\n",
              "      <th>jornada</th>\n",
              "      <th>duracionprograma</th>\n",
              "      <th>añooportuno</th>\n",
              "      <th>estadoalumno</th>\n",
              "      <th>idestadoalumno</th>\n",
              "      <th>tipoprograma</th>\n",
              "    </tr>\n",
              "  </thead>\n",
              "  <tbody>\n",
              "    <tr>\n",
              "      <th>7614</th>\n",
              "      <td>7615</td>\n",
              "      <td>Hombre</td>\n",
              "      <td>1</td>\n",
              "      <td>2017</td>\n",
              "      <td>1</td>\n",
              "      <td>IPPG35348</td>\n",
              "      <td>MBA con Especialización en Salud</td>\n",
              "      <td>IPPG</td>\n",
              "      <td>REP</td>\n",
              "      <td>Santiago</td>\n",
              "      <td>On Line</td>\n",
              "      <td>4</td>\n",
              "      <td>2019</td>\n",
              "      <td>Desertor</td>\n",
              "      <td>0</td>\n",
              "      <td>Magíster</td>\n",
              "    </tr>\n",
              "    <tr>\n",
              "      <th>3903</th>\n",
              "      <td>3904</td>\n",
              "      <td>Mujer</td>\n",
              "      <td>0</td>\n",
              "      <td>2016</td>\n",
              "      <td>2</td>\n",
              "      <td>UNAB29981</td>\n",
              "      <td>Magister en Gestión Pedagógica y Curricular</td>\n",
              "      <td>Educación y Ciencias Sociales</td>\n",
              "      <td>EXT</td>\n",
              "      <td>Santiago</td>\n",
              "      <td>Vespertina</td>\n",
              "      <td>4</td>\n",
              "      <td>2019</td>\n",
              "      <td>Desertor</td>\n",
              "      <td>0</td>\n",
              "      <td>Magíster</td>\n",
              "    </tr>\n",
              "  </tbody>\n",
              "</table>\n",
              "</div>"
            ],
            "text/plain": [
              "        id  genero  idgenero  ...  estadoalumno  idestadoalumno tipoprograma\n",
              "7614  7615  Hombre         1  ...      Desertor               0     Magíster\n",
              "3903  3904   Mujer         0  ...      Desertor               0     Magíster\n",
              "\n",
              "[2 rows x 16 columns]"
            ]
          },
          "metadata": {},
          "execution_count": 12
        }
      ]
    },
    {
      "cell_type": "code",
      "metadata": {
        "id": "yLVpuINFQHxr"
      },
      "source": [
        "columns = ['genero',          \n",
        "           'semestre_trimestre',\n",
        "           'programa',\n",
        "           'facultad',\n",
        "           'campus',\n",
        "           'sede',\n",
        "           'jornada',\n",
        "           'duracionprograma',       \n",
        "           'estadoalumno',         \n",
        "           'año_ingreso']\n",
        "\n",
        "data = data[columns]\n",
        "for col in columns:\n",
        "      data[col] = data[col].astype(\"category\").cat.codes\n",
        "      "
      ],
      "execution_count": 13,
      "outputs": []
    },
    {
      "cell_type": "markdown",
      "metadata": {
        "id": "iS-PcFKNX8eC"
      },
      "source": [
        "# 3. Presentación de Experimentos"
      ]
    },
    {
      "cell_type": "code",
      "metadata": {
        "id": "O1Ei66GlX_G7"
      },
      "source": [
        "#@title 80% Entrenamiento - 20% Test\n",
        "\n",
        "data_train, data_test = train_test_split(data, test_size=0.2)\n",
        "x_train = data_train.drop(labels='estadoalumno', axis=1)\n",
        "y_train = data_train['estadoalumno']\n",
        "x_test = data_test.drop(labels='estadoalumno', axis=1)\n",
        "y_test = data_test['estadoalumno']"
      ],
      "execution_count": 14,
      "outputs": []
    },
    {
      "cell_type": "code",
      "metadata": {
        "colab": {
          "base_uri": "https://localhost:8080/"
        },
        "id": "JalsO1rBYQYa",
        "outputId": "d5b153b6-ef93-4cb5-9e25-291a8b20545c"
      },
      "source": [
        "len(data_train), len(data_test)"
      ],
      "execution_count": 15,
      "outputs": [
        {
          "output_type": "execute_result",
          "data": {
            "text/plain": [
              "(7033, 1759)"
            ]
          },
          "metadata": {},
          "execution_count": 15
        }
      ]
    },
    {
      "cell_type": "markdown",
      "metadata": {
        "id": "pQZD8IhoYk59"
      },
      "source": [
        "# Entrenamientos de los modelos\n",
        "\n",
        "* Decision tree\n",
        "* Random Forest\n",
        "* SVM"
      ]
    },
    {
      "cell_type": "code",
      "metadata": {
        "id": "RhRiUzqsY3DU"
      },
      "source": [
        "# definicion de la funcion para evaluar los modelos\n",
        "\n",
        "def evaluar_predicciones(y_true, y_pred, x_test, model):\n",
        "    string = \"La precision del modelo es: {}%\".format(100*accuracy_score(y_true, y_pred))\n",
        "    plt.figure(figsize=(12, 7))\n",
        "    plot_confusion_matrix(model, x_test, y_test)\n",
        "    plt.title(string, fontsize='15')\n",
        "    plt.show()\n",
        "    \n",
        "    return round(100*accuracy_score(y_true, y_pred), 3)"
      ],
      "execution_count": 16,
      "outputs": []
    },
    {
      "cell_type": "code",
      "metadata": {
        "colab": {
          "base_uri": "https://localhost:8080/",
          "height": 369
        },
        "id": "a-mA3BaFZDd3",
        "outputId": "549a251d-7066-496f-9216-ee2a9f569640"
      },
      "source": [
        "#@title Decision tree\n",
        "clf_desicion_tree = DecisionTreeClassifier()\n",
        "clf_desicion_tree.fit(x_train, y_train)\n",
        "y_pred = clf_desicion_tree.predict(x_test)\n",
        "resultados_desicion_tree = evaluar_predicciones(y_test, y_pred, x_test, clf_desicion_tree)"
      ],
      "execution_count": 17,
      "outputs": [
        {
          "output_type": "stream",
          "name": "stderr",
          "text": [
            "/usr/local/lib/python3.7/dist-packages/sklearn/utils/deprecation.py:87: FutureWarning: Function plot_confusion_matrix is deprecated; Function `plot_confusion_matrix` is deprecated in 1.0 and will be removed in 1.2. Use one of the class methods: ConfusionMatrixDisplay.from_predictions or ConfusionMatrixDisplay.from_estimator.\n",
            "  warnings.warn(msg, category=FutureWarning)\n"
          ]
        },
        {
          "output_type": "display_data",
          "data": {
            "text/plain": [
              "<Figure size 864x504 with 0 Axes>"
            ]
          },
          "metadata": {}
        },
        {
          "output_type": "display_data",
          "data": {
            "image/png": "[encoded data removed]",
            "text/plain": [
              "<Figure size 432x288 with 2 Axes>"
            ]
          },
          "metadata": {
            "needs_background": "light"
          }
        }
      ]
    },
    {
      "cell_type": "code",
      "metadata": {
        "colab": {
          "base_uri": "https://localhost:8080/",
          "height": 369
        },
        "id": "C10La5Ddaufj",
        "outputId": "ccbb8e78-7ffe-473d-d742-af232d2c6728"
      },
      "source": [
        "#@title Random Forest\n",
        "clf_random_forest = RandomForestClassifier()\n",
        "clf_random_forest.fit(x_train, y_train)\n",
        "y_pred = clf_random_forest.predict(x_test)\n",
        "resultados_random_forest = evaluar_predicciones(y_test, y_pred, x_test, clf_random_forest)"
      ],
      "execution_count": 18,
      "outputs": [
        {
          "output_type": "stream",
          "name": "stderr",
          "text": [
            "/usr/local/lib/python3.7/dist-packages/sklearn/utils/deprecation.py:87: FutureWarning: Function plot_confusion_matrix is deprecated; Function `plot_confusion_matrix` is deprecated in 1.0 and will be removed in 1.2. Use one of the class methods: ConfusionMatrixDisplay.from_predictions or ConfusionMatrixDisplay.from_estimator.\n",
            "  warnings.warn(msg, category=FutureWarning)\n"
          ]
        },
        {
          "output_type": "display_data",
          "data": {
            "text/plain": [
              "<Figure size 864x504 with 0 Axes>"
            ]
          },
          "metadata": {}
        },
        {
          "output_type": "display_data",
          "data": {
            "image/png": "[encoded data removed]",
            "text/plain": [
              "<Figure size 432x288 with 2 Axes>"
            ]
          },
          "metadata": {
            "needs_background": "light"
          }
        }
      ]
    },
    {
      "cell_type": "code",
      "metadata": {
        "colab": {
          "base_uri": "https://localhost:8080/",
          "height": 369
        },
        "id": "yx8AUeBFoF7o",
        "outputId": "d72269bb-9d7e-4e1f-8402-941eaf888cc8"
      },
      "source": [
        "#@title SVM\n",
        "clf_svm = SVC()\n",
        "clf_svm.fit(x_train, y_train)\n",
        "y_pred = clf_svm.predict(x_test)\n",
        "resultados_svm = evaluar_predicciones(y_test, y_pred, x_test, clf_svm)"
      ],
      "execution_count": 19,
      "outputs": [
        {
          "output_type": "stream",
          "name": "stderr",
          "text": [
            "/usr/local/lib/python3.7/dist-packages/sklearn/utils/deprecation.py:87: FutureWarning: Function plot_confusion_matrix is deprecated; Function `plot_confusion_matrix` is deprecated in 1.0 and will be removed in 1.2. Use one of the class methods: ConfusionMatrixDisplay.from_predictions or ConfusionMatrixDisplay.from_estimator.\n",
            "  warnings.warn(msg, category=FutureWarning)\n"
          ]
        },
        {
          "output_type": "display_data",
          "data": {
            "text/plain": [
              "<Figure size 864x504 with 0 Axes>"
            ]
          },
          "metadata": {}
        },
        {
          "output_type": "display_data",
          "data": {
            "image/png": "[encoded data removed]",
            "text/plain": [
              "<Figure size 432x288 with 2 Axes>"
            ]
          },
          "metadata": {
            "needs_background": "light"
          }
        }
      ]
    },
    {
      "cell_type": "code",
      "metadata": {
        "colab": {
          "base_uri": "https://localhost:8080/",
          "height": 143
        },
        "id": "Kyqxx23nbin5",
        "outputId": "cbce99df-961c-4349-ae7c-259654cd6494"
      },
      "source": [
        "#@title Resumen de resultados\n",
        "resultados = {'modelo': [\"Descion Tree\", \"Random Forest\", \"SVM\"],\n",
        "              'score': [resultados_desicion_tree,\n",
        "                         resultados_random_forest,\n",
        "                         resultados_svm]}\n",
        "\n",
        "res = pd.DataFrame(resultados)\n",
        "res"
      ],
      "execution_count": 20,
      "outputs": [
        {
          "output_type": "execute_result",
          "data": {
            "text/html": [
              "<div>\n",
              "<style scoped>\n",
              "    .dataframe tbody tr th:only-of-type {\n",
              "        vertical-align: middle;\n",
              "    }\n",
              "\n",
              "    .dataframe tbody tr th {\n",
              "        vertical-align: top;\n",
              "    }\n",
              "\n",
              "    .dataframe thead th {\n",
              "        text-align: right;\n",
              "    }\n",
              "</style>\n",
              "<table border=\"1\" class=\"dataframe\">\n",
              "  <thead>\n",
              "    <tr style=\"text-align: right;\">\n",
              "      <th></th>\n",
              "      <th>modelo</th>\n",
              "      <th>score</th>\n",
              "    </tr>\n",
              "  </thead>\n",
              "  <tbody>\n",
              "    <tr>\n",
              "      <th>0</th>\n",
              "      <td>Descion Tree</td>\n",
              "      <td>100.000</td>\n",
              "    </tr>\n",
              "    <tr>\n",
              "      <th>1</th>\n",
              "      <td>Random Forest</td>\n",
              "      <td>100.000</td>\n",
              "    </tr>\n",
              "    <tr>\n",
              "      <th>2</th>\n",
              "      <td>SVM</td>\n",
              "      <td>98.692</td>\n",
              "    </tr>\n",
              "  </tbody>\n",
              "</table>\n",
              "</div>"
            ],
            "text/plain": [
              "          modelo    score\n",
              "0   Descion Tree  100.000\n",
              "1  Random Forest  100.000\n",
              "2            SVM   98.692"
            ]
          },
          "metadata": {},
          "execution_count": 20
        }
      ]
    },
    {
      "cell_type": "markdown",
      "metadata": {
        "id": "3XR62ZbIa5op"
      },
      "source": [
        "**Hiperparametros**"
      ]
    },
    {
      "cell_type": "code",
      "metadata": {
        "colab": {
          "base_uri": "https://localhost:8080/"
        },
        "id": "0gFfEmE4sF9q",
        "outputId": "5af0c31c-d55c-4b82-d9b2-2bbad97acdc5"
      },
      "source": [
        "clf_svm.get_params()"
      ],
      "execution_count": 21,
      "outputs": [
        {
          "output_type": "execute_result",
          "data": {
            "text/plain": [
              "{'C': 1.0,\n",
              " 'break_ties': False,\n",
              " 'cache_size': 200,\n",
              " 'class_weight': None,\n",
              " 'coef0': 0.0,\n",
              " 'decision_function_shape': 'ovr',\n",
              " 'degree': 3,\n",
              " 'gamma': 'scale',\n",
              " 'kernel': 'rbf',\n",
              " 'max_iter': -1,\n",
              " 'probability': False,\n",
              " 'random_state': None,\n",
              " 'shrinking': True,\n",
              " 'tol': 0.001,\n",
              " 'verbose': False}"
            ]
          },
          "metadata": {},
          "execution_count": 21
        }
      ]
    },
    {
      "cell_type": "code",
      "metadata": {
        "colab": {
          "base_uri": "https://localhost:8080/"
        },
        "id": "gl3zZWMhsVbp",
        "outputId": "4b14271f-5044-4086-b050-a5c80c78baf4"
      },
      "source": [
        "clf_random_forest.get_params()"
      ],
      "execution_count": 22,
      "outputs": [
        {
          "output_type": "execute_result",
          "data": {
            "text/plain": [
              "{'bootstrap': True,\n",
              " 'ccp_alpha': 0.0,\n",
              " 'class_weight': None,\n",
              " 'criterion': 'gini',\n",
              " 'max_depth': None,\n",
              " 'max_features': 'auto',\n",
              " 'max_leaf_nodes': None,\n",
              " 'max_samples': None,\n",
              " 'min_impurity_decrease': 0.0,\n",
              " 'min_samples_leaf': 1,\n",
              " 'min_samples_split': 2,\n",
              " 'min_weight_fraction_leaf': 0.0,\n",
              " 'n_estimators': 100,\n",
              " 'n_jobs': None,\n",
              " 'oob_score': False,\n",
              " 'random_state': None,\n",
              " 'verbose': 0,\n",
              " 'warm_start': False}"
            ]
          },
          "metadata": {},
          "execution_count": 22
        }
      ]
    },
    {
      "cell_type": "code",
      "metadata": {
        "colab": {
          "base_uri": "https://localhost:8080/"
        },
        "id": "lDaZr4tFsVlx",
        "outputId": "ea6db90a-0e65-4d00-ebac-cb2322feec02"
      },
      "source": [
        "clf_desicion_tree.get_params()"
      ],
      "execution_count": 23,
      "outputs": [
        {
          "output_type": "execute_result",
          "data": {
            "text/plain": [
              "{'ccp_alpha': 0.0,\n",
              " 'class_weight': None,\n",
              " 'criterion': 'gini',\n",
              " 'max_depth': None,\n",
              " 'max_features': None,\n",
              " 'max_leaf_nodes': None,\n",
              " 'min_impurity_decrease': 0.0,\n",
              " 'min_samples_leaf': 1,\n",
              " 'min_samples_split': 2,\n",
              " 'min_weight_fraction_leaf': 0.0,\n",
              " 'random_state': None,\n",
              " 'splitter': 'best'}"
            ]
          },
          "metadata": {},
          "execution_count": 23
        }
      ]
    }
  ]
}